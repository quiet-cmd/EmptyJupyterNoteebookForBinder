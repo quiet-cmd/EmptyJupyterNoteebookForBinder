{
 "cells": [
  {
   "cell_type": "code",
   "execution_count": 19,
   "metadata": {
    "scrolled": false,
    "pycharm": {
     "is_executing": false
    }
   },
   "outputs": [
    {
     "name": "stderr",
     "text": [
      "Using TensorFlow backend.\n"
     ],
     "output_type": "stream"
    },
    {
     "traceback": [
      "\u001b[1;31m---------------------------------------------------------------------------\u001b[0m",
      "\u001b[1;31mModuleNotFoundError\u001b[0m                       Traceback (most recent call last)",
      "\u001b[1;32m<ipython-input-19-e81053ad39f9>\u001b[0m in \u001b[0;36m<module>\u001b[1;34m\u001b[0m\n\u001b[0;32m      3\u001b[0m \u001b[1;32mimport\u001b[0m \u001b[0mpandas\u001b[0m\u001b[1;33m\u001b[0m\u001b[1;33m\u001b[0m\u001b[0m\n\u001b[0;32m      4\u001b[0m \u001b[1;32mimport\u001b[0m \u001b[0mmatplotlib\u001b[0m\u001b[1;33m.\u001b[0m\u001b[0mpyplot\u001b[0m \u001b[1;32mas\u001b[0m \u001b[0mplt\u001b[0m\u001b[1;33m\u001b[0m\u001b[1;33m\u001b[0m\u001b[0m\n\u001b[1;32m----> 5\u001b[1;33m \u001b[1;32mimport\u001b[0m \u001b[0mkeras\u001b[0m\u001b[1;33m\u001b[0m\u001b[1;33m\u001b[0m\u001b[0m\n\u001b[0m\u001b[0;32m      6\u001b[0m \u001b[1;32mfrom\u001b[0m \u001b[0mkeras\u001b[0m\u001b[1;33m.\u001b[0m\u001b[0mmodels\u001b[0m \u001b[1;32mimport\u001b[0m \u001b[0mSequential\u001b[0m\u001b[1;33m\u001b[0m\u001b[1;33m\u001b[0m\u001b[0m\n\u001b[0;32m      7\u001b[0m \u001b[1;32mfrom\u001b[0m \u001b[0mkeras\u001b[0m\u001b[1;33m.\u001b[0m\u001b[0mlayers\u001b[0m \u001b[1;32mimport\u001b[0m \u001b[0mDense\u001b[0m\u001b[1;33m\u001b[0m\u001b[1;33m\u001b[0m\u001b[0m\n",
      "\u001b[1;32mc:\\users\\89250\\appdata\\local\\programs\\python\\python38-32\\lib\\site-packages\\keras\\__init__.py\u001b[0m in \u001b[0;36m<module>\u001b[1;34m\u001b[0m\n\u001b[0;32m      1\u001b[0m \u001b[1;32mfrom\u001b[0m \u001b[0m__future__\u001b[0m \u001b[1;32mimport\u001b[0m \u001b[0mabsolute_import\u001b[0m\u001b[1;33m\u001b[0m\u001b[1;33m\u001b[0m\u001b[0m\n\u001b[0;32m      2\u001b[0m \u001b[1;33m\u001b[0m\u001b[0m\n\u001b[1;32m----> 3\u001b[1;33m \u001b[1;32mfrom\u001b[0m \u001b[1;33m.\u001b[0m \u001b[1;32mimport\u001b[0m \u001b[0mutils\u001b[0m\u001b[1;33m\u001b[0m\u001b[1;33m\u001b[0m\u001b[0m\n\u001b[0m\u001b[0;32m      4\u001b[0m \u001b[1;32mfrom\u001b[0m \u001b[1;33m.\u001b[0m \u001b[1;32mimport\u001b[0m \u001b[0mactivations\u001b[0m\u001b[1;33m\u001b[0m\u001b[1;33m\u001b[0m\u001b[0m\n\u001b[0;32m      5\u001b[0m \u001b[1;32mfrom\u001b[0m \u001b[1;33m.\u001b[0m \u001b[1;32mimport\u001b[0m \u001b[0mapplications\u001b[0m\u001b[1;33m\u001b[0m\u001b[1;33m\u001b[0m\u001b[0m\n",
      "\u001b[1;32mc:\\users\\89250\\appdata\\local\\programs\\python\\python38-32\\lib\\site-packages\\keras\\utils\\__init__.py\u001b[0m in \u001b[0;36m<module>\u001b[1;34m\u001b[0m\n\u001b[0;32m      4\u001b[0m \u001b[1;32mfrom\u001b[0m \u001b[1;33m.\u001b[0m \u001b[1;32mimport\u001b[0m \u001b[0mdata_utils\u001b[0m\u001b[1;33m\u001b[0m\u001b[1;33m\u001b[0m\u001b[0m\n\u001b[0;32m      5\u001b[0m \u001b[1;32mfrom\u001b[0m \u001b[1;33m.\u001b[0m \u001b[1;32mimport\u001b[0m \u001b[0mio_utils\u001b[0m\u001b[1;33m\u001b[0m\u001b[1;33m\u001b[0m\u001b[0m\n\u001b[1;32m----> 6\u001b[1;33m \u001b[1;32mfrom\u001b[0m \u001b[1;33m.\u001b[0m \u001b[1;32mimport\u001b[0m \u001b[0mconv_utils\u001b[0m\u001b[1;33m\u001b[0m\u001b[1;33m\u001b[0m\u001b[0m\n\u001b[0m\u001b[0;32m      7\u001b[0m \u001b[1;32mfrom\u001b[0m \u001b[1;33m.\u001b[0m \u001b[1;32mimport\u001b[0m \u001b[0mlosses_utils\u001b[0m\u001b[1;33m\u001b[0m\u001b[1;33m\u001b[0m\u001b[0m\n\u001b[0;32m      8\u001b[0m \u001b[1;32mfrom\u001b[0m \u001b[1;33m.\u001b[0m \u001b[1;32mimport\u001b[0m \u001b[0mmetrics_utils\u001b[0m\u001b[1;33m\u001b[0m\u001b[1;33m\u001b[0m\u001b[0m\n",
      "\u001b[1;32mc:\\users\\89250\\appdata\\local\\programs\\python\\python38-32\\lib\\site-packages\\keras\\utils\\conv_utils.py\u001b[0m in \u001b[0;36m<module>\u001b[1;34m\u001b[0m\n\u001b[0;32m      7\u001b[0m \u001b[1;32mfrom\u001b[0m \u001b[0msix\u001b[0m\u001b[1;33m.\u001b[0m\u001b[0mmoves\u001b[0m \u001b[1;32mimport\u001b[0m \u001b[0mrange\u001b[0m\u001b[1;33m\u001b[0m\u001b[1;33m\u001b[0m\u001b[0m\n\u001b[0;32m      8\u001b[0m \u001b[1;32mimport\u001b[0m \u001b[0mnumpy\u001b[0m \u001b[1;32mas\u001b[0m \u001b[0mnp\u001b[0m\u001b[1;33m\u001b[0m\u001b[1;33m\u001b[0m\u001b[0m\n\u001b[1;32m----> 9\u001b[1;33m \u001b[1;32mfrom\u001b[0m \u001b[1;33m.\u001b[0m\u001b[1;33m.\u001b[0m \u001b[1;32mimport\u001b[0m \u001b[0mbackend\u001b[0m \u001b[1;32mas\u001b[0m \u001b[0mK\u001b[0m\u001b[1;33m\u001b[0m\u001b[1;33m\u001b[0m\u001b[0m\n\u001b[0m\u001b[0;32m     10\u001b[0m \u001b[1;33m\u001b[0m\u001b[0m\n\u001b[0;32m     11\u001b[0m \u001b[1;33m\u001b[0m\u001b[0m\n",
      "\u001b[1;32mc:\\users\\89250\\appdata\\local\\programs\\python\\python38-32\\lib\\site-packages\\keras\\backend\\__init__.py\u001b[0m in \u001b[0;36m<module>\u001b[1;34m\u001b[0m\n\u001b[1;32m----> 1\u001b[1;33m \u001b[1;32mfrom\u001b[0m \u001b[1;33m.\u001b[0m\u001b[0mload_backend\u001b[0m \u001b[1;32mimport\u001b[0m \u001b[0mepsilon\u001b[0m\u001b[1;33m\u001b[0m\u001b[1;33m\u001b[0m\u001b[0m\n\u001b[0m\u001b[0;32m      2\u001b[0m \u001b[1;32mfrom\u001b[0m \u001b[1;33m.\u001b[0m\u001b[0mload_backend\u001b[0m \u001b[1;32mimport\u001b[0m \u001b[0mset_epsilon\u001b[0m\u001b[1;33m\u001b[0m\u001b[1;33m\u001b[0m\u001b[0m\n\u001b[0;32m      3\u001b[0m \u001b[1;32mfrom\u001b[0m \u001b[1;33m.\u001b[0m\u001b[0mload_backend\u001b[0m \u001b[1;32mimport\u001b[0m \u001b[0mfloatx\u001b[0m\u001b[1;33m\u001b[0m\u001b[1;33m\u001b[0m\u001b[0m\n\u001b[0;32m      4\u001b[0m \u001b[1;32mfrom\u001b[0m \u001b[1;33m.\u001b[0m\u001b[0mload_backend\u001b[0m \u001b[1;32mimport\u001b[0m \u001b[0mset_floatx\u001b[0m\u001b[1;33m\u001b[0m\u001b[1;33m\u001b[0m\u001b[0m\n\u001b[0;32m      5\u001b[0m \u001b[1;32mfrom\u001b[0m \u001b[1;33m.\u001b[0m\u001b[0mload_backend\u001b[0m \u001b[1;32mimport\u001b[0m \u001b[0mcast_to_floatx\u001b[0m\u001b[1;33m\u001b[0m\u001b[1;33m\u001b[0m\u001b[0m\n",
      "\u001b[1;32mc:\\users\\89250\\appdata\\local\\programs\\python\\python38-32\\lib\\site-packages\\keras\\backend\\load_backend.py\u001b[0m in \u001b[0;36m<module>\u001b[1;34m\u001b[0m\n\u001b[0;32m     88\u001b[0m \u001b[1;32melif\u001b[0m \u001b[0m_BACKEND\u001b[0m \u001b[1;33m==\u001b[0m \u001b[1;34m'tensorflow'\u001b[0m\u001b[1;33m:\u001b[0m\u001b[1;33m\u001b[0m\u001b[1;33m\u001b[0m\u001b[0m\n\u001b[0;32m     89\u001b[0m     \u001b[0msys\u001b[0m\u001b[1;33m.\u001b[0m\u001b[0mstderr\u001b[0m\u001b[1;33m.\u001b[0m\u001b[0mwrite\u001b[0m\u001b[1;33m(\u001b[0m\u001b[1;34m'Using TensorFlow backend.\\n'\u001b[0m\u001b[1;33m)\u001b[0m\u001b[1;33m\u001b[0m\u001b[1;33m\u001b[0m\u001b[0m\n\u001b[1;32m---> 90\u001b[1;33m     \u001b[1;32mfrom\u001b[0m \u001b[1;33m.\u001b[0m\u001b[0mtensorflow_backend\u001b[0m \u001b[1;32mimport\u001b[0m \u001b[1;33m*\u001b[0m\u001b[1;33m\u001b[0m\u001b[1;33m\u001b[0m\u001b[0m\n\u001b[0m\u001b[0;32m     91\u001b[0m \u001b[1;32melse\u001b[0m\u001b[1;33m:\u001b[0m\u001b[1;33m\u001b[0m\u001b[1;33m\u001b[0m\u001b[0m\n\u001b[0;32m     92\u001b[0m     \u001b[1;31m# Try and load external backend.\u001b[0m\u001b[1;33m\u001b[0m\u001b[1;33m\u001b[0m\u001b[1;33m\u001b[0m\u001b[0m\n",
      "\u001b[1;32mc:\\users\\89250\\appdata\\local\\programs\\python\\python38-32\\lib\\site-packages\\keras\\backend\\tensorflow_backend.py\u001b[0m in \u001b[0;36m<module>\u001b[1;34m\u001b[0m\n\u001b[0;32m      3\u001b[0m \u001b[1;32mfrom\u001b[0m \u001b[0m__future__\u001b[0m \u001b[1;32mimport\u001b[0m \u001b[0mprint_function\u001b[0m\u001b[1;33m\u001b[0m\u001b[1;33m\u001b[0m\u001b[0m\n\u001b[0;32m      4\u001b[0m \u001b[1;33m\u001b[0m\u001b[0m\n\u001b[1;32m----> 5\u001b[1;33m \u001b[1;32mimport\u001b[0m \u001b[0mtensorflow\u001b[0m \u001b[1;32mas\u001b[0m \u001b[0mtf\u001b[0m\u001b[1;33m\u001b[0m\u001b[1;33m\u001b[0m\u001b[0m\n\u001b[0m\u001b[0;32m      6\u001b[0m \u001b[1;32mfrom\u001b[0m \u001b[0mtensorflow\u001b[0m\u001b[1;33m.\u001b[0m\u001b[0mpython\u001b[0m\u001b[1;33m.\u001b[0m\u001b[0meager\u001b[0m \u001b[1;32mimport\u001b[0m \u001b[0mcontext\u001b[0m\u001b[1;33m\u001b[0m\u001b[1;33m\u001b[0m\u001b[0m\n\u001b[0;32m      7\u001b[0m \u001b[1;32mfrom\u001b[0m \u001b[0mtensorflow\u001b[0m\u001b[1;33m.\u001b[0m\u001b[0mpython\u001b[0m\u001b[1;33m.\u001b[0m\u001b[0mframework\u001b[0m \u001b[1;32mimport\u001b[0m \u001b[0mdevice\u001b[0m \u001b[1;32mas\u001b[0m \u001b[0mtfdev\u001b[0m\u001b[1;33m\u001b[0m\u001b[1;33m\u001b[0m\u001b[0m\n",
      "\u001b[1;31mModuleNotFoundError\u001b[0m: No module named 'tensorflow'"
     ],
     "ename": "ModuleNotFoundError",
     "evalue": "No module named 'tensorflow'",
     "output_type": "error"
    }
   ],
   "source": [
    "# Загрузка зависимостей\n",
    "import numpy\n",
    "import pandas\n",
    "import matplotlib.pyplot as plt\n",
    "import keras\n",
    "from keras.models import Sequential\n",
    "from keras.layers import Dense\n",
    "from sklearn.preprocessing import StandardScaler\n",
    "from sklearn.preprocessing import MinMaxScaler\n",
    "from sklearn.model_selection import train_test_split\n",
    "from sklearn.metrics import mean_squared_error"
   ]
  },
  {
   "cell_type": "code",
   "execution_count": 15,
   "metadata": {
    "pycharm": {
     "is_executing": false
    }
   },
   "outputs": [
    {
     "data": {
      "text/plain": "   Vendor_name      MYCT      MMIN      MMAX      CACH     CHMIN     CHMAX  \\\n0     0.000000  0.256630  0.251074  0.420445  1.000000  0.925513  1.000000   \n1     0.092516  0.045894  0.874463  1.000000  0.461880  0.694135  0.676123   \n2     0.092516  0.045894  0.874463  1.000000  0.461880  0.694135  0.676123   \n3     0.092516  0.045894  0.874463  1.000000  0.461880  0.694135  0.676123   \n4     0.092516  0.045894  0.874463  0.717236  0.461880  0.694135  0.478091   \n5     0.092516  0.035488  0.874463  1.000000  0.653197  0.694135  0.676123   \n6     0.092516  0.024463  1.000000  1.000000  0.653197  0.925513  0.676123   \n7     0.092516  0.024463  1.000000  1.000000  0.653197  0.925513  0.676123   \n8     0.092516  0.024463  1.000000  1.000000  0.653197  0.925513  0.676123   \n9     0.092516  0.024463  1.000000  1.000000  0.923760  1.000000  0.956183   \n\n        PRP  \n0  1.229905  \n1  1.529143  \n2  1.332788  \n3  1.092443  \n4  0.833975  \n5  1.692548  \n6  1.832489  \n7  2.112740  \n8  2.312497  \n9  2.312497  ",
      "text/html": "<div>\n<style scoped>\n    .dataframe tbody tr th:only-of-type {\n        vertical-align: middle;\n    }\n\n    .dataframe tbody tr th {\n        vertical-align: top;\n    }\n\n    .dataframe thead th {\n        text-align: right;\n    }\n</style>\n<table border=\"1\" class=\"dataframe\">\n  <thead>\n    <tr style=\"text-align: right;\">\n      <th></th>\n      <th>Vendor_name</th>\n      <th>MYCT</th>\n      <th>MMIN</th>\n      <th>MMAX</th>\n      <th>CACH</th>\n      <th>CHMIN</th>\n      <th>CHMAX</th>\n      <th>PRP</th>\n    </tr>\n  </thead>\n  <tbody>\n    <tr>\n      <th>0</th>\n      <td>0.000000</td>\n      <td>0.256630</td>\n      <td>0.251074</td>\n      <td>0.420445</td>\n      <td>1.000000</td>\n      <td>0.925513</td>\n      <td>1.000000</td>\n      <td>1.229905</td>\n    </tr>\n    <tr>\n      <th>1</th>\n      <td>0.092516</td>\n      <td>0.045894</td>\n      <td>0.874463</td>\n      <td>1.000000</td>\n      <td>0.461880</td>\n      <td>0.694135</td>\n      <td>0.676123</td>\n      <td>1.529143</td>\n    </tr>\n    <tr>\n      <th>2</th>\n      <td>0.092516</td>\n      <td>0.045894</td>\n      <td>0.874463</td>\n      <td>1.000000</td>\n      <td>0.461880</td>\n      <td>0.694135</td>\n      <td>0.676123</td>\n      <td>1.332788</td>\n    </tr>\n    <tr>\n      <th>3</th>\n      <td>0.092516</td>\n      <td>0.045894</td>\n      <td>0.874463</td>\n      <td>1.000000</td>\n      <td>0.461880</td>\n      <td>0.694135</td>\n      <td>0.676123</td>\n      <td>1.092443</td>\n    </tr>\n    <tr>\n      <th>4</th>\n      <td>0.092516</td>\n      <td>0.045894</td>\n      <td>0.874463</td>\n      <td>0.717236</td>\n      <td>0.461880</td>\n      <td>0.694135</td>\n      <td>0.478091</td>\n      <td>0.833975</td>\n    </tr>\n    <tr>\n      <th>5</th>\n      <td>0.092516</td>\n      <td>0.035488</td>\n      <td>0.874463</td>\n      <td>1.000000</td>\n      <td>0.653197</td>\n      <td>0.694135</td>\n      <td>0.676123</td>\n      <td>1.692548</td>\n    </tr>\n    <tr>\n      <th>6</th>\n      <td>0.092516</td>\n      <td>0.024463</td>\n      <td>1.000000</td>\n      <td>1.000000</td>\n      <td>0.653197</td>\n      <td>0.925513</td>\n      <td>0.676123</td>\n      <td>1.832489</td>\n    </tr>\n    <tr>\n      <th>7</th>\n      <td>0.092516</td>\n      <td>0.024463</td>\n      <td>1.000000</td>\n      <td>1.000000</td>\n      <td>0.653197</td>\n      <td>0.925513</td>\n      <td>0.676123</td>\n      <td>2.112740</td>\n    </tr>\n    <tr>\n      <th>8</th>\n      <td>0.092516</td>\n      <td>0.024463</td>\n      <td>1.000000</td>\n      <td>1.000000</td>\n      <td>0.653197</td>\n      <td>0.925513</td>\n      <td>0.676123</td>\n      <td>2.312497</td>\n    </tr>\n    <tr>\n      <th>9</th>\n      <td>0.092516</td>\n      <td>0.024463</td>\n      <td>1.000000</td>\n      <td>1.000000</td>\n      <td>0.923760</td>\n      <td>1.000000</td>\n      <td>0.956183</td>\n      <td>2.312497</td>\n    </tr>\n  </tbody>\n</table>\n</div>"
     },
     "metadata": {},
     "output_type": "execute_result",
     "execution_count": 15
    }
   ],
   "source": [
    "# Загрузка подготовленного набора данных\n",
    "dataset = pandas.read_csv('prepared_data.csv') # Убедиться в правильности пути к файлу!\n",
    "dataset.head(10) # Вывод первых 10 строк"
   ]
  },
  {
   "cell_type": "code",
   "execution_count": 16,
   "metadata": {
    "pycharm": {
     "is_executing": false
    }
   },
   "outputs": [],
   "source": [
    "# Выделение входных и выходных параметров:\n",
    "# Выходной параметр - значение столбца обработанного набора данных, соответсвующее столбцу №8 из первоначального набора данных (machine.data.csv).\n",
    "# Входные параметры - все остальные столбцы обработанного набора данных.\n",
    "# Используем .values, чтобы индексы не попали в новые переменные и в дальнейшем не мешали нам, например, при построении графиков.\n",
    "X = dataset.iloc[:, 1:37].values\n",
    "Y = dataset['PRP'].values\n",
    "\n",
    "# Обратите внимание на структуру вашего обработанного файлы и измените индексы, если нужно."
   ]
  },
  {
   "cell_type": "code",
   "execution_count": 18,
   "metadata": {
    "pycharm": {
     "is_executing": false
    }
   },
   "outputs": [
    {
     "traceback": [
      "\u001b[1;31m---------------------------------------------------------------------------\u001b[0m",
      "\u001b[1;31mNameError\u001b[0m                                 Traceback (most recent call last)",
      "\u001b[1;32m<ipython-input-18-3a587c48ffc7>\u001b[0m in \u001b[0;36m<module>\u001b[1;34m\u001b[0m\n\u001b[0;32m      3\u001b[0m \u001b[1;31m# Он разделяет заданные массивы входных и выходных параметров на две части каждый.\u001b[0m\u001b[1;33m\u001b[0m\u001b[1;33m\u001b[0m\u001b[1;33m\u001b[0m\u001b[0m\n\u001b[0;32m      4\u001b[0m \u001b[1;31m# Значение test_size определяет долю тестовой выборки в исходных данных.\u001b[0m\u001b[1;33m\u001b[0m\u001b[1;33m\u001b[0m\u001b[1;33m\u001b[0m\u001b[0m\n\u001b[1;32m----> 5\u001b[1;33m \u001b[0mX_train\u001b[0m\u001b[1;33m,\u001b[0m \u001b[0mX_test\u001b[0m\u001b[1;33m,\u001b[0m \u001b[0mY_train\u001b[0m\u001b[1;33m,\u001b[0m \u001b[0mY_test\u001b[0m \u001b[1;33m=\u001b[0m \u001b[0mtrain_test_split\u001b[0m\u001b[1;33m(\u001b[0m\u001b[0mX\u001b[0m\u001b[1;33m,\u001b[0m \u001b[0mY\u001b[0m\u001b[1;33m,\u001b[0m \u001b[0mtest_size\u001b[0m \u001b[1;33m=\u001b[0m \u001b[1;36m0.2\u001b[0m\u001b[1;33m)\u001b[0m\u001b[1;33m\u001b[0m\u001b[1;33m\u001b[0m\u001b[0m\n\u001b[0m\u001b[0;32m      6\u001b[0m \u001b[1;33m\u001b[0m\u001b[0m\n",
      "\u001b[1;31mNameError\u001b[0m: name 'train_test_split' is not defined"
     ],
     "ename": "NameError",
     "evalue": "name 'train_test_split' is not defined",
     "output_type": "error"
    }
   ],
   "source": [
    "# Разделение данных на обучающую и тестовую выборки:\n",
    "# Используем метод train_test_split библиотеки sklearn.\n",
    "# Он разделяет заданные массивы входных и выходных параметров на две части каждый.\n",
    "# Значение test_size определяет долю тестовой выборки в исходных данных.\n",
    "X_train, X_test, Y_train, Y_test = train_test_split(X, Y, test_size = 0.2)"
   ]
  },
  {
   "cell_type": "code",
   "execution_count": null,
   "metadata": {
    "pycharm": {
     "is_executing": false
    }
   },
   "outputs": [],
   "source": [
    "# Задаем параметры структуры нейронной сети.\n",
    "\n",
    "# Количество нейронов во входном слое должно быть равно количеству входных параметров.\n",
    "input_layer_size = 36\n",
    "\n",
    "# Количество нейронов в каждом скрытом слое и количество таких слоёв могут быть выбраны произвольно.\n",
    "# Увеличение числа нейронов относительно предыдущего слоя позволяет лучше обрабатывать отдельные примеры.\n",
    "# Уменьшение числа нейронов относительно предыдущего слоя позволяет обощать информацию и выводить новые правила.\n",
    "# Увеличение числа слоёв помогает сети работать как более сложная функция.\n",
    "first_hidden_layer_size = 50\n",
    "second_hidden_layer_size = 50\n",
    "\n",
    "# Количество нейронов в выходном слое должно быть равно количеству выходных параметров.\n",
    "output_layer_size = 1\n",
    "\n",
    "# Параметры обучения нейронной сети: количество эпох и размер батча.\n",
    "epochs_number = 100\n",
    "batch_size = 16"
   ]
  },
  {
   "cell_type": "code",
   "execution_count": null,
   "metadata": {
    "scrolled": false,
    "pycharm": {
     "is_executing": false
    }
   },
   "outputs": [],
   "source": [
    "# Создание нейронной сети прямого распространения, пока она пустая, т.е. не содержит слоёв и нейронов.\n",
    "model = Sequential()\n",
    "\n",
    "# Входной слой и первый скрытый слой, функция активации - ReLU\n",
    "model.add(Dense(first_hidden_layer_size, input_dim=input_layer_size, activation='relu'))\n",
    "\n",
    "# Второй скрытый слой, функция активации - ReLU\n",
    "model.add(Dense(second_hidden_layer_size, activation='relu'))\n",
    "\n",
    "# Выходной слой, функция активации - линейная, т.к. решается задача регрессии.\n",
    "model.add(Dense(output_layer_size, activation='linear'))"
   ]
  },
  {
   "cell_type": "code",
   "execution_count": null,
   "metadata": {
    "scrolled": true,
    "pycharm": {
     "is_executing": false
    }
   },
   "outputs": [],
   "source": [
    "# Обзор нейронной сети, теперь в ней есть слои и нейроны.\n",
    "# Если внимательно посмотреть на количество параметров, т.е. связей между нейронами, то можно увидеть, что автоматически добавлены нейроны смещения.\n",
    "model.summary()"
   ]
  },
  {
   "cell_type": "code",
   "execution_count": null,
   "metadata": {
    "scrolled": true,
    "pycharm": {
     "is_executing": false
    }
   },
   "outputs": [],
   "source": [
    "# Настройка нейронной сети.\n",
    "# Функция потерь (loss) - среднеквадратическая ошибка.\n",
    "# Оптимизатор (optimizer) - adam (в настоящий момент - это стандартный оптимизатор).\n",
    "# Указываем метрики средняя абсолютная ошибка (mean_absolute_error) и среднеквадратическая ошиба (mean_squared_error) для дальнейшего анализа.\n",
    "model.compile(loss='mean_squared_error', optimizer='adam', metrics=['mean_absolute_error', 'mean_squared_error'])"
   ]
  },
  {
   "cell_type": "code",
   "execution_count": null,
   "metadata": {
    "scrolled": false,
    "pycharm": {
     "is_executing": false
    }
   },
   "outputs": [],
   "source": [
    "# Обучение нейронной сети.\n",
    "# На вход передаем обучающие и тестовые выборки, количество эпох и размер батча.\n",
    "# На выходе получаем объект с историей обучения, который далее будем анализировать.\n",
    "history = model.fit(X_train, Y_train, validation_data = (X_test,Y_test), epochs=epochs_number, batch_size=batch_size)"
   ]
  },
  {
   "cell_type": "code",
   "execution_count": null,
   "metadata": {
    "pycharm": {
     "is_executing": false
    }
   },
   "outputs": [],
   "source": [
    "# Выводим динамику среднего абсолютного отклонения от номера эпохи обучения.\n",
    "plt.plot(history.history['mean_absolute_error'])\n",
    "plt.plot(history.history['val_mean_absolute_error']) \n",
    "plt.title('Model MAE') \n",
    "plt.ylabel('MAE') \n",
    "plt.xlabel('Epoch') \n",
    "plt.legend(['Train', 'Test'], loc='upper right') \n",
    "plt.show()"
   ]
  },
  {
   "cell_type": "code",
   "execution_count": null,
   "metadata": {
    "pycharm": {
     "is_executing": false
    }
   },
   "outputs": [],
   "source": [
    "# Выводим динамику среднеквадратического отклонения, т.е. значения функции потерь, от номера эпохи обучения.\n",
    "# Видно, что в процессе обучения сеть с каждой эпохой вычисляет всё более точные прогнозы значений Y.\n",
    "plt.plot(history.history['mean_squared_error'])\n",
    "plt.plot(history.history['val_mean_squared_error']) \n",
    "plt.title('Model MSE') \n",
    "plt.ylabel('MSE') \n",
    "plt.xlabel('Epoch') \n",
    "plt.legend(['Train', 'Test'], loc='upper right') \n",
    "plt.show()"
   ]
  },
  {
   "cell_type": "code",
   "execution_count": null,
   "metadata": {
    "pycharm": {
     "is_executing": false
    }
   },
   "outputs": [],
   "source": [
    "# Предсказание уже обученной нейронной сети на обучающей выборке:\n",
    "Y_pred_train = model.predict(X_train)"
   ]
  },
  {
   "cell_type": "code",
   "execution_count": null,
   "metadata": {
    "pycharm": {
     "is_executing": false
    }
   },
   "outputs": [],
   "source": [
    "# Сравним эталонные значения Y_train и результат работы обученной нейронной сети Y_pred_train для обучающей выборки.\n",
    "# В идеальной ситуации они должны совпадать, т.е. точки (Y_train[i], Y_pred_train[i]) должны лежать на прямой Y_train = Y_pred_train.\n",
    "plt.plot(Y_train, Y_pred_train, 'bo')\n",
    "plt.plot([0,1], [0,1], 'r-')\n",
    "plt.title('Test vs Pred_test') \n",
    "plt.ylabel('Pred_test') \n",
    "plt.xlabel('Test') \n",
    "plt.show()"
   ]
  },
  {
   "cell_type": "code",
   "execution_count": null,
   "metadata": {
    "pycharm": {
     "is_executing": false
    }
   },
   "outputs": [],
   "source": [
    "# Выведем сами значения Y_train и Y_pred_train.\n",
    "plt.plot(Y_train)\n",
    "plt.plot(Y_pred_train)\n",
    "plt.show()"
   ]
  },
  {
   "cell_type": "code",
   "execution_count": null,
   "metadata": {
    "pycharm": {
     "is_executing": false
    }
   },
   "outputs": [],
   "source": [
    "# Таким образом, обучение по обучающей выборке проведено.\n",
    "# Теперь проверим работу нейроной сети на тестовой выборке.\n",
    "\n",
    "# Предсказание обученной нейронной сети на тестовой выборке:\n",
    "Y_pred_test = model.predict(X_test)"
   ]
  },
  {
   "cell_type": "code",
   "execution_count": null,
   "metadata": {
    "scrolled": true,
    "pycharm": {
     "is_executing": false
    }
   },
   "outputs": [],
   "source": [
    "# Сравним эталонные значения Y_test и результат работы обученной нейронной сети Y_pred_test для тестовой выборки.\n",
    "plt.plot(Y_test, Y_pred_test, 'bo')\n",
    "plt.plot([0,1], [0,1], 'r-')\n",
    "plt.title('Test vs Pred_test') \n",
    "plt.ylabel('Pred_test') \n",
    "plt.xlabel('Test') \n",
    "plt.show()"
   ]
  },
  {
   "cell_type": "code",
   "execution_count": null,
   "metadata": {
    "scrolled": false,
    "pycharm": {
     "is_executing": false
    }
   },
   "outputs": [],
   "source": [
    "# Выведем сами значения Y_test и Y_pred_test.\n",
    "plt.plot(Y_test)\n",
    "plt.plot(Y_pred_test)\n",
    "plt.show()"
   ]
  },
  {
   "cell_type": "code",
   "execution_count": null,
   "metadata": {
    "pycharm": {
     "is_executing": false
    }
   },
   "outputs": [],
   "source": [
    "# Итого, качество работы нейронной сети на тестовых данных ниже, чем на обучающих - это ожидаемо.\n",
    "# Тем не менее, нейронная сеть способна найти зависимости и предсказвать значение Y по X с приемлемым уровенм точности.\n",
    "\n",
    "# Сравним среднеквадратичные ошибки (значения функции потерь) для обучающей и тестовой выборок.\n",
    "print(numpy.sqrt(mean_squared_error(Y_train, Y_pred_train)))\n",
    "print(numpy.sqrt(mean_squared_error(Y_test, Y_pred_test)))"
   ]
  },
  {
   "cell_type": "code",
   "execution_count": null,
   "metadata": {
    "pycharm": {
     "is_executing": false
    }
   },
   "outputs": [],
   "source": [
    "# Сохраним обученную нейронную сеть, название файла можно выбрать любое, расширение - h5.\n",
    "model.save('SimpleNeuralNetwork.h5')"
   ]
  }
 ],
 "metadata": {
  "kernelspec": {
   "display_name": "Python 3",
   "language": "python",
   "name": "python3"
  },
  "language_info": {
   "codemirror_mode": {
    "name": "ipython",
    "version": 3
   },
   "file_extension": ".py",
   "mimetype": "text/x-python",
   "name": "python",
   "nbconvert_exporter": "python",
   "pygments_lexer": "ipython3",
   "version": "3.7.4"
  },
  "pycharm": {
   "stem_cell": {
    "cell_type": "raw",
    "source": [],
    "metadata": {
     "collapsed": false
    }
   }
  }
 },
 "nbformat": 4,
 "nbformat_minor": 2
}