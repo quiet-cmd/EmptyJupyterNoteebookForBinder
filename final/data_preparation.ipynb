{
 "cells": [
  {
   "cell_type": "code",
   "execution_count": 1,
   "metadata": {
    "pycharm": {
     "is_executing": false,
     "name": "#%%\n"
    }
   },
   "outputs": [],
   "source": [
    "# Загрузка зависимостей\n",
    "import numpy as np\n",
    "import pandas as pd\n",
    "import matplotlib.pyplot as plt\n",
    "from sklearn.preprocessing import StandardScaler\n",
    "from sklearn.preprocessing import MinMaxScaler"
   ]
  },
  {
   "cell_type": "code",
   "execution_count": 2,
   "metadata": {
    "pycharm": {
     "is_executing": false,
     "name": "#%%\n"
    }
   },
   "outputs": [],
   "source": [
    "def hist_show(d, b = 50):\n",
    "    plt.hist(d, bins = b)\n",
    "    plt.show()\n",
    "    \n",
    "    \n",
    "def mm_scaler(d):\n",
    "    d = np.array(d).reshape(-1, 1)\n",
    "    d =MinMaxScaler().fit_transform(d).flatten()\n",
    "    return d\n",
    "\n",
    "\n",
    "def standard_scaler(d):\n",
    "    d = np.array(d).reshape(-1, 1)\n",
    "    d =StandardScaler().fit_transform(d).flatten()\n",
    "    return d"
   ]
  },
  {
   "cell_type": "code",
   "execution_count": 3,
   "metadata": {
    "pycharm": {
     "is_executing": false,
     "name": "#%%\n"
    }
   },
   "outputs": [
    {
     "data": {
      "text/html": [
       "<div>\n",
       "<style scoped>\n",
       "    .dataframe tbody tr th:only-of-type {\n",
       "        vertical-align: middle;\n",
       "    }\n",
       "\n",
       "    .dataframe tbody tr th {\n",
       "        vertical-align: top;\n",
       "    }\n",
       "\n",
       "    .dataframe thead th {\n",
       "        text-align: right;\n",
       "    }\n",
       "</style>\n",
       "<table border=\"1\" class=\"dataframe\">\n",
       "  <thead>\n",
       "    <tr style=\"text-align: right;\">\n",
       "      <th></th>\n",
       "      <th>name</th>\n",
       "      <th>base_fond</th>\n",
       "      <th>science_fond</th>\n",
       "      <th>ams</th>\n",
       "      <th>n_buildings</th>\n",
       "      <th>n_days</th>\n",
       "      <th>guests</th>\n",
       "      <th>employees</th>\n",
       "    </tr>\n",
       "  </thead>\n",
       "  <tbody>\n",
       "    <tr>\n",
       "      <th>0</th>\n",
       "      <td>Курганинский исторический музей</td>\n",
       "      <td>23093</td>\n",
       "      <td>4111</td>\n",
       "      <td>0</td>\n",
       "      <td>1</td>\n",
       "      <td>308</td>\n",
       "      <td>17.8</td>\n",
       "      <td>18</td>\n",
       "    </tr>\n",
       "    <tr>\n",
       "      <th>1</th>\n",
       "      <td>Таманский музейный комплекс</td>\n",
       "      <td>16451</td>\n",
       "      <td>5476</td>\n",
       "      <td>14625</td>\n",
       "      <td>7</td>\n",
       "      <td>314</td>\n",
       "      <td>102.2</td>\n",
       "      <td>40</td>\n",
       "    </tr>\n",
       "    <tr>\n",
       "      <th>2</th>\n",
       "      <td>Музей истории и краеведения г.Лабинска</td>\n",
       "      <td>21181</td>\n",
       "      <td>2016</td>\n",
       "      <td>0</td>\n",
       "      <td>1</td>\n",
       "      <td>247</td>\n",
       "      <td>28.3</td>\n",
       "      <td>18</td>\n",
       "    </tr>\n",
       "    <tr>\n",
       "      <th>3</th>\n",
       "      <td>Дом-музей А.Киселева г.Туапсе</td>\n",
       "      <td>3846</td>\n",
       "      <td>1196</td>\n",
       "      <td>5042</td>\n",
       "      <td>1</td>\n",
       "      <td>360</td>\n",
       "      <td>54.4</td>\n",
       "      <td>10</td>\n",
       "    </tr>\n",
       "    <tr>\n",
       "      <th>4</th>\n",
       "      <td>Красногвардейский историко-краеведческий музей</td>\n",
       "      <td>10778</td>\n",
       "      <td>6650</td>\n",
       "      <td>3183</td>\n",
       "      <td>2</td>\n",
       "      <td>247</td>\n",
       "      <td>7.9</td>\n",
       "      <td>5</td>\n",
       "    </tr>\n",
       "    <tr>\n",
       "      <th>5</th>\n",
       "      <td>Гиагинский районный краеведческий музей  им.П....</td>\n",
       "      <td>17276</td>\n",
       "      <td>5434</td>\n",
       "      <td>4265</td>\n",
       "      <td>1</td>\n",
       "      <td>254</td>\n",
       "      <td>10.2</td>\n",
       "      <td>3</td>\n",
       "    </tr>\n",
       "    <tr>\n",
       "      <th>6</th>\n",
       "      <td>Краснодарский выставочный зал ИЗО</td>\n",
       "      <td>641</td>\n",
       "      <td>170</td>\n",
       "      <td>0</td>\n",
       "      <td>1</td>\n",
       "      <td>302</td>\n",
       "      <td>131.4</td>\n",
       "      <td>29</td>\n",
       "    </tr>\n",
       "    <tr>\n",
       "      <th>7</th>\n",
       "      <td>Краеведческий музей г.Адыгейска</td>\n",
       "      <td>3784</td>\n",
       "      <td>630</td>\n",
       "      <td>3784</td>\n",
       "      <td>1</td>\n",
       "      <td>254</td>\n",
       "      <td>2.7</td>\n",
       "      <td>2</td>\n",
       "    </tr>\n",
       "    <tr>\n",
       "      <th>8</th>\n",
       "      <td>Алтайский гос.мемориальный музей Г.С.Титова</td>\n",
       "      <td>7668</td>\n",
       "      <td>2430</td>\n",
       "      <td>1234</td>\n",
       "      <td>3</td>\n",
       "      <td>310</td>\n",
       "      <td>19.8</td>\n",
       "      <td>20</td>\n",
       "    </tr>\n",
       "    <tr>\n",
       "      <th>9</th>\n",
       "      <td>Колыванский музей истории камнерезного дела на...</td>\n",
       "      <td>1517</td>\n",
       "      <td>942</td>\n",
       "      <td>0</td>\n",
       "      <td>1</td>\n",
       "      <td>265</td>\n",
       "      <td>5.8</td>\n",
       "      <td>3</td>\n",
       "    </tr>\n",
       "  </tbody>\n",
       "</table>\n",
       "</div>"
      ],
      "text/plain": [
       "                                                name  base_fond  science_fond  \\\n",
       "0                    Курганинский исторический музей      23093          4111   \n",
       "1                        Таманский музейный комплекс      16451          5476   \n",
       "2             Музей истории и краеведения г.Лабинска      21181          2016   \n",
       "3                      Дом-музей А.Киселева г.Туапсе       3846          1196   \n",
       "4     Красногвардейский историко-краеведческий музей      10778          6650   \n",
       "5  Гиагинский районный краеведческий музей  им.П....      17276          5434   \n",
       "6                  Краснодарский выставочный зал ИЗО        641           170   \n",
       "7                    Краеведческий музей г.Адыгейска       3784           630   \n",
       "8        Алтайский гос.мемориальный музей Г.С.Титова       7668          2430   \n",
       "9  Колыванский музей истории камнерезного дела на...       1517           942   \n",
       "\n",
       "     ams  n_buildings  n_days  guests  employees  \n",
       "0      0            1     308    17.8         18  \n",
       "1  14625            7     314   102.2         40  \n",
       "2      0            1     247    28.3         18  \n",
       "3   5042            1     360    54.4         10  \n",
       "4   3183            2     247     7.9          5  \n",
       "5   4265            1     254    10.2          3  \n",
       "6      0            1     302   131.4         29  \n",
       "7   3784            1     254     2.7          2  \n",
       "8   1234            3     310    19.8         20  \n",
       "9      0            1     265     5.8          3  "
      ]
     },
     "execution_count": 3,
     "metadata": {},
     "output_type": "execute_result"
    }
   ],
   "source": [
    "# Загрузка и анализ набора данных\n",
    "museum_dataset = pd.read_csv('Набор_1_музеи_России.csv',  sep=';')\n",
    "museum_dataset.head(10)"
   ]
  },
  {
   "cell_type": "code",
   "execution_count": 4,
   "metadata": {
    "pycharm": {
     "is_executing": false,
     "name": "#%%\n"
    }
   },
   "outputs": [],
   "source": [
    "# Создаем набор данных, в котором будут храниться обработанные данные\n",
    "dataset = pd.DataFrame()"
   ]
  },
  {
   "cell_type": "code",
   "execution_count": 5,
   "metadata": {
    "pycharm": {
     "is_executing": false,
     "name": "#%%\n"
    }
   },
   "outputs": [
    {
     "data": {
      "image/png": "[encoded data removed]",
      "text/plain": [
       "<Figure size 432x288 with 1 Axes>"
      ]
     },
     "metadata": {
      "needs_background": "light"
     },
     "output_type": "display_data"
    }
   ],
   "source": [
    "# обработка колонки \"name\"\n",
    "data = museum_dataset['name']\n",
    "data = pd.factorize(data)\n",
    "\n",
    "hist_show(data[0])"
   ]
  },
  {
   "cell_type": "code",
   "execution_count": 6,
   "metadata": {
    "pycharm": {
     "is_executing": false,
     "name": "#%%\n"
    }
   },
   "outputs": [
    {
     "data": {
      "text/html": [
       "<div>\n",
       "<style scoped>\n",
       "    .dataframe tbody tr th:only-of-type {\n",
       "        vertical-align: middle;\n",
       "    }\n",
       "\n",
       "    .dataframe tbody tr th {\n",
       "        vertical-align: top;\n",
       "    }\n",
       "\n",
       "    .dataframe thead th {\n",
       "        text-align: right;\n",
       "    }\n",
       "</style>\n",
       "<table border=\"1\" class=\"dataframe\">\n",
       "  <thead>\n",
       "    <tr style=\"text-align: right;\">\n",
       "      <th></th>\n",
       "      <th>name</th>\n",
       "    </tr>\n",
       "  </thead>\n",
       "  <tbody>\n",
       "    <tr>\n",
       "      <th>0</th>\n",
       "      <td>0.000000</td>\n",
       "    </tr>\n",
       "    <tr>\n",
       "      <th>1</th>\n",
       "      <td>0.000443</td>\n",
       "    </tr>\n",
       "    <tr>\n",
       "      <th>2</th>\n",
       "      <td>0.000886</td>\n",
       "    </tr>\n",
       "    <tr>\n",
       "      <th>3</th>\n",
       "      <td>0.001329</td>\n",
       "    </tr>\n",
       "    <tr>\n",
       "      <th>4</th>\n",
       "      <td>0.001772</td>\n",
       "    </tr>\n",
       "    <tr>\n",
       "      <th>5</th>\n",
       "      <td>0.002215</td>\n",
       "    </tr>\n",
       "    <tr>\n",
       "      <th>6</th>\n",
       "      <td>0.002658</td>\n",
       "    </tr>\n",
       "    <tr>\n",
       "      <th>7</th>\n",
       "      <td>0.003101</td>\n",
       "    </tr>\n",
       "    <tr>\n",
       "      <th>8</th>\n",
       "      <td>0.003545</td>\n",
       "    </tr>\n",
       "    <tr>\n",
       "      <th>9</th>\n",
       "      <td>0.003988</td>\n",
       "    </tr>\n",
       "  </tbody>\n",
       "</table>\n",
       "</div>"
      ],
      "text/plain": [
       "       name\n",
       "0  0.000000\n",
       "1  0.000443\n",
       "2  0.000886\n",
       "3  0.001329\n",
       "4  0.001772\n",
       "5  0.002215\n",
       "6  0.002658\n",
       "7  0.003101\n",
       "8  0.003545\n",
       "9  0.003988"
      ]
     },
     "execution_count": 6,
     "metadata": {},
     "output_type": "execute_result"
    }
   ],
   "source": [
    "dataset['name'] = mm_scaler(data[0])\n",
    "dataset.head(10)"
   ]
  },
  {
   "cell_type": "code",
   "execution_count": 7,
   "metadata": {
    "pycharm": {
     "is_executing": false,
     "name": "#%%\n"
    }
   },
   "outputs": [
    {
     "data": {
      "image/png": "[encoded data removed]",
      "text/plain": [
       "<Figure size 432x288 with 1 Axes>"
      ]
     },
     "metadata": {
      "needs_background": "light"
     },
     "output_type": "display_data"
    }
   ],
   "source": [
    "# обработка колонки \"base_fond\"\n",
    "data = museum_dataset['base_fond']\n",
    "\n",
    "hist_show(data)"
   ]
  },
  {
   "cell_type": "code",
   "execution_count": 8,
   "metadata": {
    "pycharm": {
     "is_executing": false,
     "name": "#%%\n"
    }
   },
   "outputs": [
    {
     "data": {
      "image/png": "[encoded data removed]",
      "text/plain": [
       "<Figure size 432x288 with 1 Axes>"
      ]
     },
     "metadata": {
      "needs_background": "light"
     },
     "output_type": "display_data"
    },
    {
     "data": {
      "image/png": "[encoded data removed]",
      "text/plain": [
       "<Figure size 432x288 with 1 Axes>"
      ]
     },
     "metadata": {
      "needs_background": "light"
     },
     "output_type": "display_data"
    }
   ],
   "source": [
    "hist_show(data**0.5)\n",
    "hist_show(np.log(data))"
   ]
  },
  {
   "cell_type": "code",
   "execution_count": 9,
   "metadata": {
    "pycharm": {
     "is_executing": false,
     "name": "#%%\n"
    }
   },
   "outputs": [
    {
     "data": {
      "text/html": [
       "<div>\n",
       "<style scoped>\n",
       "    .dataframe tbody tr th:only-of-type {\n",
       "        vertical-align: middle;\n",
       "    }\n",
       "\n",
       "    .dataframe tbody tr th {\n",
       "        vertical-align: top;\n",
       "    }\n",
       "\n",
       "    .dataframe thead th {\n",
       "        text-align: right;\n",
       "    }\n",
       "</style>\n",
       "<table border=\"1\" class=\"dataframe\">\n",
       "  <thead>\n",
       "    <tr style=\"text-align: right;\">\n",
       "      <th></th>\n",
       "      <th>name</th>\n",
       "      <th>base_fond</th>\n",
       "    </tr>\n",
       "  </thead>\n",
       "  <tbody>\n",
       "    <tr>\n",
       "      <th>0</th>\n",
       "      <td>0.000000</td>\n",
       "      <td>-0.024498</td>\n",
       "    </tr>\n",
       "    <tr>\n",
       "      <th>1</th>\n",
       "      <td>0.000443</td>\n",
       "      <td>-0.073177</td>\n",
       "    </tr>\n",
       "    <tr>\n",
       "      <th>2</th>\n",
       "      <td>0.000886</td>\n",
       "      <td>-0.038511</td>\n",
       "    </tr>\n",
       "    <tr>\n",
       "      <th>3</th>\n",
       "      <td>0.001329</td>\n",
       "      <td>-0.165559</td>\n",
       "    </tr>\n",
       "    <tr>\n",
       "      <th>4</th>\n",
       "      <td>0.001772</td>\n",
       "      <td>-0.114754</td>\n",
       "    </tr>\n",
       "    <tr>\n",
       "      <th>5</th>\n",
       "      <td>0.002215</td>\n",
       "      <td>-0.067130</td>\n",
       "    </tr>\n",
       "    <tr>\n",
       "      <th>6</th>\n",
       "      <td>0.002658</td>\n",
       "      <td>-0.189048</td>\n",
       "    </tr>\n",
       "    <tr>\n",
       "      <th>7</th>\n",
       "      <td>0.003101</td>\n",
       "      <td>-0.166013</td>\n",
       "    </tr>\n",
       "    <tr>\n",
       "      <th>8</th>\n",
       "      <td>0.003545</td>\n",
       "      <td>-0.137547</td>\n",
       "    </tr>\n",
       "    <tr>\n",
       "      <th>9</th>\n",
       "      <td>0.003988</td>\n",
       "      <td>-0.182628</td>\n",
       "    </tr>\n",
       "  </tbody>\n",
       "</table>\n",
       "</div>"
      ],
      "text/plain": [
       "       name  base_fond\n",
       "0  0.000000  -0.024498\n",
       "1  0.000443  -0.073177\n",
       "2  0.000886  -0.038511\n",
       "3  0.001329  -0.165559\n",
       "4  0.001772  -0.114754\n",
       "5  0.002215  -0.067130\n",
       "6  0.002658  -0.189048\n",
       "7  0.003101  -0.166013\n",
       "8  0.003545  -0.137547\n",
       "9  0.003988  -0.182628"
      ]
     },
     "execution_count": 9,
     "metadata": {},
     "output_type": "execute_result"
    }
   ],
   "source": [
    "dataset['base_fond'] = standard_scaler(data) \n",
    "dataset.head(10)"
   ]
  },
  {
   "cell_type": "code",
   "execution_count": 10,
   "metadata": {
    "pycharm": {
     "is_executing": false,
     "name": "#%%\n"
    }
   },
   "outputs": [
    {
     "data": {
      "image/png": "[encoded data removed]",
      "text/plain": [
       "<Figure size 432x288 with 1 Axes>"
      ]
     },
     "metadata": {
      "needs_background": "light"
     },
     "output_type": "display_data"
    }
   ],
   "source": [
    "data = museum_dataset['science_fond']\n",
    "hist_show(data)"
   ]
  },
  {
   "cell_type": "code",
   "execution_count": 11,
   "metadata": {
    "pycharm": {
     "is_executing": false,
     "name": "#%%\n"
    }
   },
   "outputs": [
    {
     "data": {
      "image/png": "[encoded data removed]",
      "text/plain": [
       "<Figure size 432x288 with 1 Axes>"
      ]
     },
     "metadata": {
      "needs_background": "light"
     },
     "output_type": "display_data"
    }
   ],
   "source": [
    "data = np.clip(data, 0, 200000)\n",
    "hist_show(data)"
   ]
  },
  {
   "cell_type": "code",
   "execution_count": 12,
   "metadata": {
    "pycharm": {
     "is_executing": false,
     "name": "#%%\n"
    }
   },
   "outputs": [
    {
     "data": {
      "image/png": "[encoded data removed]",
      "text/plain": [
       "<Figure size 432x288 with 1 Axes>"
      ]
     },
     "metadata": {
      "needs_background": "light"
     },
     "output_type": "display_data"
    }
   ],
   "source": [
    "hist_show(data**0.5)"
   ]
  },
  {
   "cell_type": "code",
   "execution_count": 13,
   "metadata": {
    "pycharm": {
     "is_executing": false,
     "name": "#%%\n"
    }
   },
   "outputs": [
    {
     "data": {
      "text/html": [
       "<div>\n",
       "<style scoped>\n",
       "    .dataframe tbody tr th:only-of-type {\n",
       "        vertical-align: middle;\n",
       "    }\n",
       "\n",
       "    .dataframe tbody tr th {\n",
       "        vertical-align: top;\n",
       "    }\n",
       "\n",
       "    .dataframe thead th {\n",
       "        text-align: right;\n",
       "    }\n",
       "</style>\n",
       "<table border=\"1\" class=\"dataframe\">\n",
       "  <thead>\n",
       "    <tr style=\"text-align: right;\">\n",
       "      <th></th>\n",
       "      <th>name</th>\n",
       "      <th>base_fond</th>\n",
       "      <th>science_fond</th>\n",
       "    </tr>\n",
       "  </thead>\n",
       "  <tbody>\n",
       "    <tr>\n",
       "      <th>0</th>\n",
       "      <td>0.000000</td>\n",
       "      <td>-0.024498</td>\n",
       "      <td>0.143370</td>\n",
       "    </tr>\n",
       "    <tr>\n",
       "      <th>1</th>\n",
       "      <td>0.000443</td>\n",
       "      <td>-0.073177</td>\n",
       "      <td>0.165469</td>\n",
       "    </tr>\n",
       "    <tr>\n",
       "      <th>2</th>\n",
       "      <td>0.000886</td>\n",
       "      <td>-0.038511</td>\n",
       "      <td>0.100399</td>\n",
       "    </tr>\n",
       "    <tr>\n",
       "      <th>3</th>\n",
       "      <td>0.001329</td>\n",
       "      <td>-0.165559</td>\n",
       "      <td>0.077330</td>\n",
       "    </tr>\n",
       "    <tr>\n",
       "      <th>4</th>\n",
       "      <td>0.001772</td>\n",
       "      <td>-0.114754</td>\n",
       "      <td>0.182346</td>\n",
       "    </tr>\n",
       "    <tr>\n",
       "      <th>5</th>\n",
       "      <td>0.002215</td>\n",
       "      <td>-0.067130</td>\n",
       "      <td>0.164833</td>\n",
       "    </tr>\n",
       "    <tr>\n",
       "      <th>6</th>\n",
       "      <td>0.002658</td>\n",
       "      <td>-0.189048</td>\n",
       "      <td>0.029155</td>\n",
       "    </tr>\n",
       "    <tr>\n",
       "      <th>7</th>\n",
       "      <td>0.003101</td>\n",
       "      <td>-0.166013</td>\n",
       "      <td>0.056125</td>\n",
       "    </tr>\n",
       "    <tr>\n",
       "      <th>8</th>\n",
       "      <td>0.003545</td>\n",
       "      <td>-0.137547</td>\n",
       "      <td>0.110227</td>\n",
       "    </tr>\n",
       "    <tr>\n",
       "      <th>9</th>\n",
       "      <td>0.003988</td>\n",
       "      <td>-0.182628</td>\n",
       "      <td>0.068629</td>\n",
       "    </tr>\n",
       "  </tbody>\n",
       "</table>\n",
       "</div>"
      ],
      "text/plain": [
       "       name  base_fond  science_fond\n",
       "0  0.000000  -0.024498      0.143370\n",
       "1  0.000443  -0.073177      0.165469\n",
       "2  0.000886  -0.038511      0.100399\n",
       "3  0.001329  -0.165559      0.077330\n",
       "4  0.001772  -0.114754      0.182346\n",
       "5  0.002215  -0.067130      0.164833\n",
       "6  0.002658  -0.189048      0.029155\n",
       "7  0.003101  -0.166013      0.056125\n",
       "8  0.003545  -0.137547      0.110227\n",
       "9  0.003988  -0.182628      0.068629"
      ]
     },
     "execution_count": 13,
     "metadata": {},
     "output_type": "execute_result"
    }
   ],
   "source": [
    "dataset['science_fond'] = mm_scaler(data**0.5)\n",
    "dataset.head(10)"
   ]
  },
  {
   "cell_type": "code",
   "execution_count": 14,
   "metadata": {
    "pycharm": {
     "is_executing": false,
     "name": "#%%\n"
    }
   },
   "outputs": [
    {
     "data": {
      "image/png": "[encoded data removed]",
      "text/plain": [
       "<Figure size 432x288 with 1 Axes>"
      ]
     },
     "metadata": {
      "needs_background": "light"
     },
     "output_type": "display_data"
    }
   ],
   "source": [
    "data = museum_dataset['ams']\n",
    "hist_show(data)"
   ]
  },
  {
   "cell_type": "code",
   "execution_count": 15,
   "metadata": {
    "pycharm": {
     "is_executing": false,
     "name": "#%%\n"
    }
   },
   "outputs": [
    {
     "data": {
      "image/png": "[encoded data removed]",
      "text/plain": [
       "<Figure size 432x288 with 1 Axes>"
      ]
     },
     "metadata": {
      "needs_background": "light"
     },
     "output_type": "display_data"
    }
   ],
   "source": [
    "data = np.clip(data, 0, 300000)\n",
    "hist_show(data)"
   ]
  },
  {
   "cell_type": "code",
   "execution_count": 16,
   "metadata": {
    "pycharm": {
     "is_executing": false,
     "name": "#%%\n"
    }
   },
   "outputs": [
    {
     "data": {
      "image/png": "[encoded data removed]",
      "text/plain": [
       "<Figure size 432x288 with 1 Axes>"
      ]
     },
     "metadata": {
      "needs_background": "light"
     },
     "output_type": "display_data"
    }
   ],
   "source": [
    "hist_show(data**0.5)"
   ]
  },
  {
   "cell_type": "code",
   "execution_count": 17,
   "metadata": {
    "pycharm": {
     "is_executing": false,
     "name": "#%%\n"
    }
   },
   "outputs": [
    {
     "data": {
      "text/html": [
       "<div>\n",
       "<style scoped>\n",
       "    .dataframe tbody tr th:only-of-type {\n",
       "        vertical-align: middle;\n",
       "    }\n",
       "\n",
       "    .dataframe tbody tr th {\n",
       "        vertical-align: top;\n",
       "    }\n",
       "\n",
       "    .dataframe thead th {\n",
       "        text-align: right;\n",
       "    }\n",
       "</style>\n",
       "<table border=\"1\" class=\"dataframe\">\n",
       "  <thead>\n",
       "    <tr style=\"text-align: right;\">\n",
       "      <th></th>\n",
       "      <th>name</th>\n",
       "      <th>base_fond</th>\n",
       "      <th>science_fond</th>\n",
       "      <th>ams</th>\n",
       "    </tr>\n",
       "  </thead>\n",
       "  <tbody>\n",
       "    <tr>\n",
       "      <th>0</th>\n",
       "      <td>0.000000</td>\n",
       "      <td>-0.024498</td>\n",
       "      <td>0.143370</td>\n",
       "      <td>0.000000</td>\n",
       "    </tr>\n",
       "    <tr>\n",
       "      <th>1</th>\n",
       "      <td>0.000443</td>\n",
       "      <td>-0.073177</td>\n",
       "      <td>0.165469</td>\n",
       "      <td>0.220794</td>\n",
       "    </tr>\n",
       "    <tr>\n",
       "      <th>2</th>\n",
       "      <td>0.000886</td>\n",
       "      <td>-0.038511</td>\n",
       "      <td>0.100399</td>\n",
       "      <td>0.000000</td>\n",
       "    </tr>\n",
       "    <tr>\n",
       "      <th>3</th>\n",
       "      <td>0.001329</td>\n",
       "      <td>-0.165559</td>\n",
       "      <td>0.077330</td>\n",
       "      <td>0.129641</td>\n",
       "    </tr>\n",
       "    <tr>\n",
       "      <th>4</th>\n",
       "      <td>0.001772</td>\n",
       "      <td>-0.114754</td>\n",
       "      <td>0.182346</td>\n",
       "      <td>0.103005</td>\n",
       "    </tr>\n",
       "    <tr>\n",
       "      <th>5</th>\n",
       "      <td>0.002215</td>\n",
       "      <td>-0.067130</td>\n",
       "      <td>0.164833</td>\n",
       "      <td>0.119234</td>\n",
       "    </tr>\n",
       "    <tr>\n",
       "      <th>6</th>\n",
       "      <td>0.002658</td>\n",
       "      <td>-0.189048</td>\n",
       "      <td>0.029155</td>\n",
       "      <td>0.000000</td>\n",
       "    </tr>\n",
       "    <tr>\n",
       "      <th>7</th>\n",
       "      <td>0.003101</td>\n",
       "      <td>-0.166013</td>\n",
       "      <td>0.056125</td>\n",
       "      <td>0.112309</td>\n",
       "    </tr>\n",
       "    <tr>\n",
       "      <th>8</th>\n",
       "      <td>0.003545</td>\n",
       "      <td>-0.137547</td>\n",
       "      <td>0.110227</td>\n",
       "      <td>0.064135</td>\n",
       "    </tr>\n",
       "    <tr>\n",
       "      <th>9</th>\n",
       "      <td>0.003988</td>\n",
       "      <td>-0.182628</td>\n",
       "      <td>0.068629</td>\n",
       "      <td>0.000000</td>\n",
       "    </tr>\n",
       "  </tbody>\n",
       "</table>\n",
       "</div>"
      ],
      "text/plain": [
       "       name  base_fond  science_fond       ams\n",
       "0  0.000000  -0.024498      0.143370  0.000000\n",
       "1  0.000443  -0.073177      0.165469  0.220794\n",
       "2  0.000886  -0.038511      0.100399  0.000000\n",
       "3  0.001329  -0.165559      0.077330  0.129641\n",
       "4  0.001772  -0.114754      0.182346  0.103005\n",
       "5  0.002215  -0.067130      0.164833  0.119234\n",
       "6  0.002658  -0.189048      0.029155  0.000000\n",
       "7  0.003101  -0.166013      0.056125  0.112309\n",
       "8  0.003545  -0.137547      0.110227  0.064135\n",
       "9  0.003988  -0.182628      0.068629  0.000000"
      ]
     },
     "execution_count": 17,
     "metadata": {},
     "output_type": "execute_result"
    }
   ],
   "source": [
    "dataset['ams'] = mm_scaler(data**0.5)\n",
    "dataset.head(10)"
   ]
  },
  {
   "cell_type": "code",
   "execution_count": 18,
   "metadata": {
    "pycharm": {
     "is_executing": false,
     "name": "#%%\n"
    }
   },
   "outputs": [
    {
     "data": {
      "image/png": "[encoded data removed]",
      "text/plain": [
       "<Figure size 432x288 with 1 Axes>"
      ]
     },
     "metadata": {
      "needs_background": "light"
     },
     "output_type": "display_data"
    }
   ],
   "source": [
    "data = museum_dataset['n_buildings']\n",
    "hist_show(data)"
   ]
  },
  {
   "cell_type": "code",
   "execution_count": 19,
   "metadata": {
    "pycharm": {
     "is_executing": false,
     "name": "#%%\n"
    }
   },
   "outputs": [
    {
     "data": {
      "image/png": "[encoded data removed]",
      "text/plain": [
       "<Figure size 432x288 with 1 Axes>"
      ]
     },
     "metadata": {
      "needs_background": "light"
     },
     "output_type": "display_data"
    }
   ],
   "source": [
    "data = np.clip(data, 0, 100)\n",
    "hist_show(data)"
   ]
  },
  {
   "cell_type": "code",
   "execution_count": 20,
   "metadata": {
    "pycharm": {
     "is_executing": false,
     "name": "#%%\n"
    }
   },
   "outputs": [
    {
     "data": {
      "image/png": "[encoded data removed]",
      "text/plain": [
       "<Figure size 432x288 with 1 Axes>"
      ]
     },
     "metadata": {
      "needs_background": "light"
     },
     "output_type": "display_data"
    }
   ],
   "source": [
    "hist_show(data**0.5)"
   ]
  },
  {
   "cell_type": "code",
   "execution_count": 21,
   "metadata": {
    "pycharm": {
     "is_executing": false,
     "name": "#%%\n"
    }
   },
   "outputs": [
    {
     "data": {
      "text/html": [
       "<div>\n",
       "<style scoped>\n",
       "    .dataframe tbody tr th:only-of-type {\n",
       "        vertical-align: middle;\n",
       "    }\n",
       "\n",
       "    .dataframe tbody tr th {\n",
       "        vertical-align: top;\n",
       "    }\n",
       "\n",
       "    .dataframe thead th {\n",
       "        text-align: right;\n",
       "    }\n",
       "</style>\n",
       "<table border=\"1\" class=\"dataframe\">\n",
       "  <thead>\n",
       "    <tr style=\"text-align: right;\">\n",
       "      <th></th>\n",
       "      <th>name</th>\n",
       "      <th>base_fond</th>\n",
       "      <th>science_fond</th>\n",
       "      <th>ams</th>\n",
       "      <th>n_buildings</th>\n",
       "    </tr>\n",
       "  </thead>\n",
       "  <tbody>\n",
       "    <tr>\n",
       "      <th>0</th>\n",
       "      <td>0.000000</td>\n",
       "      <td>-0.024498</td>\n",
       "      <td>0.143370</td>\n",
       "      <td>0.000000</td>\n",
       "      <td>0.000000</td>\n",
       "    </tr>\n",
       "    <tr>\n",
       "      <th>1</th>\n",
       "      <td>0.000443</td>\n",
       "      <td>-0.073177</td>\n",
       "      <td>0.165469</td>\n",
       "      <td>0.220794</td>\n",
       "      <td>0.060606</td>\n",
       "    </tr>\n",
       "    <tr>\n",
       "      <th>2</th>\n",
       "      <td>0.000886</td>\n",
       "      <td>-0.038511</td>\n",
       "      <td>0.100399</td>\n",
       "      <td>0.000000</td>\n",
       "      <td>0.000000</td>\n",
       "    </tr>\n",
       "    <tr>\n",
       "      <th>3</th>\n",
       "      <td>0.001329</td>\n",
       "      <td>-0.165559</td>\n",
       "      <td>0.077330</td>\n",
       "      <td>0.129641</td>\n",
       "      <td>0.000000</td>\n",
       "    </tr>\n",
       "    <tr>\n",
       "      <th>4</th>\n",
       "      <td>0.001772</td>\n",
       "      <td>-0.114754</td>\n",
       "      <td>0.182346</td>\n",
       "      <td>0.103005</td>\n",
       "      <td>0.010101</td>\n",
       "    </tr>\n",
       "    <tr>\n",
       "      <th>5</th>\n",
       "      <td>0.002215</td>\n",
       "      <td>-0.067130</td>\n",
       "      <td>0.164833</td>\n",
       "      <td>0.119234</td>\n",
       "      <td>0.000000</td>\n",
       "    </tr>\n",
       "    <tr>\n",
       "      <th>6</th>\n",
       "      <td>0.002658</td>\n",
       "      <td>-0.189048</td>\n",
       "      <td>0.029155</td>\n",
       "      <td>0.000000</td>\n",
       "      <td>0.000000</td>\n",
       "    </tr>\n",
       "    <tr>\n",
       "      <th>7</th>\n",
       "      <td>0.003101</td>\n",
       "      <td>-0.166013</td>\n",
       "      <td>0.056125</td>\n",
       "      <td>0.112309</td>\n",
       "      <td>0.000000</td>\n",
       "    </tr>\n",
       "    <tr>\n",
       "      <th>8</th>\n",
       "      <td>0.003545</td>\n",
       "      <td>-0.137547</td>\n",
       "      <td>0.110227</td>\n",
       "      <td>0.064135</td>\n",
       "      <td>0.020202</td>\n",
       "    </tr>\n",
       "    <tr>\n",
       "      <th>9</th>\n",
       "      <td>0.003988</td>\n",
       "      <td>-0.182628</td>\n",
       "      <td>0.068629</td>\n",
       "      <td>0.000000</td>\n",
       "      <td>0.000000</td>\n",
       "    </tr>\n",
       "  </tbody>\n",
       "</table>\n",
       "</div>"
      ],
      "text/plain": [
       "       name  base_fond  science_fond       ams  n_buildings\n",
       "0  0.000000  -0.024498      0.143370  0.000000     0.000000\n",
       "1  0.000443  -0.073177      0.165469  0.220794     0.060606\n",
       "2  0.000886  -0.038511      0.100399  0.000000     0.000000\n",
       "3  0.001329  -0.165559      0.077330  0.129641     0.000000\n",
       "4  0.001772  -0.114754      0.182346  0.103005     0.010101\n",
       "5  0.002215  -0.067130      0.164833  0.119234     0.000000\n",
       "6  0.002658  -0.189048      0.029155  0.000000     0.000000\n",
       "7  0.003101  -0.166013      0.056125  0.112309     0.000000\n",
       "8  0.003545  -0.137547      0.110227  0.064135     0.020202\n",
       "9  0.003988  -0.182628      0.068629  0.000000     0.000000"
      ]
     },
     "execution_count": 21,
     "metadata": {},
     "output_type": "execute_result"
    }
   ],
   "source": [
    "dataset['n_buildings'] = mm_scaler(data)\n",
    "dataset.head(10)"
   ]
  },
  {
   "cell_type": "code",
   "execution_count": 22,
   "metadata": {
    "pycharm": {
     "is_executing": false,
     "name": "#%%\n"
    }
   },
   "outputs": [
    {
     "data": {
      "image/png": "[encoded data removed]",
      "text/plain": [
       "<Figure size 432x288 with 1 Axes>"
      ]
     },
     "metadata": {
      "needs_background": "light"
     },
     "output_type": "display_data"
    }
   ],
   "source": [
    "data = museum_dataset['n_days']\n",
    "hist_show(data)"
   ]
  },
  {
   "cell_type": "code",
   "execution_count": 23,
   "metadata": {
    "pycharm": {
     "is_executing": false,
     "name": "#%%\n"
    }
   },
   "outputs": [
    {
     "data": {
      "image/png": "[encoded data removed]",
      "text/plain": [
       "<Figure size 432x288 with 1 Axes>"
      ]
     },
     "metadata": {
      "needs_background": "light"
     },
     "output_type": "display_data"
    },
    {
     "data": {
      "image/png": "[encoded data removed]",
      "text/plain": [
       "<Figure size 432x288 with 1 Axes>"
      ]
     },
     "metadata": {
      "needs_background": "light"
     },
     "output_type": "display_data"
    }
   ],
   "source": [
    "hist_show(data**0.5)\n",
    "hist_show(np.log(data))"
   ]
  },
  {
   "cell_type": "code",
   "execution_count": 24,
   "metadata": {
    "pycharm": {
     "is_executing": false,
     "name": "#%%\n"
    }
   },
   "outputs": [
    {
     "data": {
      "text/html": [
       "<div>\n",
       "<style scoped>\n",
       "    .dataframe tbody tr th:only-of-type {\n",
       "        vertical-align: middle;\n",
       "    }\n",
       "\n",
       "    .dataframe tbody tr th {\n",
       "        vertical-align: top;\n",
       "    }\n",
       "\n",
       "    .dataframe thead th {\n",
       "        text-align: right;\n",
       "    }\n",
       "</style>\n",
       "<table border=\"1\" class=\"dataframe\">\n",
       "  <thead>\n",
       "    <tr style=\"text-align: right;\">\n",
       "      <th></th>\n",
       "      <th>name</th>\n",
       "      <th>base_fond</th>\n",
       "      <th>science_fond</th>\n",
       "      <th>ams</th>\n",
       "      <th>n_buildings</th>\n",
       "      <th>n_days</th>\n",
       "    </tr>\n",
       "  </thead>\n",
       "  <tbody>\n",
       "    <tr>\n",
       "      <th>0</th>\n",
       "      <td>0.000000</td>\n",
       "      <td>-0.024498</td>\n",
       "      <td>0.143370</td>\n",
       "      <td>0.000000</td>\n",
       "      <td>0.000000</td>\n",
       "      <td>0.938635</td>\n",
       "    </tr>\n",
       "    <tr>\n",
       "      <th>1</th>\n",
       "      <td>0.000443</td>\n",
       "      <td>-0.073177</td>\n",
       "      <td>0.165469</td>\n",
       "      <td>0.220794</td>\n",
       "      <td>0.060606</td>\n",
       "      <td>0.945497</td>\n",
       "    </tr>\n",
       "    <tr>\n",
       "      <th>2</th>\n",
       "      <td>0.000886</td>\n",
       "      <td>-0.038511</td>\n",
       "      <td>0.100399</td>\n",
       "      <td>0.000000</td>\n",
       "      <td>0.000000</td>\n",
       "      <td>0.860134</td>\n",
       "    </tr>\n",
       "    <tr>\n",
       "      <th>3</th>\n",
       "      <td>0.001329</td>\n",
       "      <td>-0.165559</td>\n",
       "      <td>0.077330</td>\n",
       "      <td>0.129641</td>\n",
       "      <td>0.000000</td>\n",
       "      <td>0.994121</td>\n",
       "    </tr>\n",
       "    <tr>\n",
       "      <th>4</th>\n",
       "      <td>0.001772</td>\n",
       "      <td>-0.114754</td>\n",
       "      <td>0.182346</td>\n",
       "      <td>0.103005</td>\n",
       "      <td>0.010101</td>\n",
       "      <td>0.860134</td>\n",
       "    </tr>\n",
       "    <tr>\n",
       "      <th>5</th>\n",
       "      <td>0.002215</td>\n",
       "      <td>-0.067130</td>\n",
       "      <td>0.164833</td>\n",
       "      <td>0.119234</td>\n",
       "      <td>0.000000</td>\n",
       "      <td>0.870074</td>\n",
       "    </tr>\n",
       "    <tr>\n",
       "      <th>6</th>\n",
       "      <td>0.002658</td>\n",
       "      <td>-0.189048</td>\n",
       "      <td>0.029155</td>\n",
       "      <td>0.000000</td>\n",
       "      <td>0.000000</td>\n",
       "      <td>0.931638</td>\n",
       "    </tr>\n",
       "    <tr>\n",
       "      <th>7</th>\n",
       "      <td>0.003101</td>\n",
       "      <td>-0.166013</td>\n",
       "      <td>0.056125</td>\n",
       "      <td>0.112309</td>\n",
       "      <td>0.000000</td>\n",
       "      <td>0.870074</td>\n",
       "    </tr>\n",
       "    <tr>\n",
       "      <th>8</th>\n",
       "      <td>0.003545</td>\n",
       "      <td>-0.137547</td>\n",
       "      <td>0.110227</td>\n",
       "      <td>0.064135</td>\n",
       "      <td>0.020202</td>\n",
       "      <td>0.940937</td>\n",
       "    </tr>\n",
       "    <tr>\n",
       "      <th>9</th>\n",
       "      <td>0.003988</td>\n",
       "      <td>-0.182628</td>\n",
       "      <td>0.068629</td>\n",
       "      <td>0.000000</td>\n",
       "      <td>0.000000</td>\n",
       "      <td>0.885153</td>\n",
       "    </tr>\n",
       "  </tbody>\n",
       "</table>\n",
       "</div>"
      ],
      "text/plain": [
       "       name  base_fond  science_fond       ams  n_buildings    n_days\n",
       "0  0.000000  -0.024498      0.143370  0.000000     0.000000  0.938635\n",
       "1  0.000443  -0.073177      0.165469  0.220794     0.060606  0.945497\n",
       "2  0.000886  -0.038511      0.100399  0.000000     0.000000  0.860134\n",
       "3  0.001329  -0.165559      0.077330  0.129641     0.000000  0.994121\n",
       "4  0.001772  -0.114754      0.182346  0.103005     0.010101  0.860134\n",
       "5  0.002215  -0.067130      0.164833  0.119234     0.000000  0.870074\n",
       "6  0.002658  -0.189048      0.029155  0.000000     0.000000  0.931638\n",
       "7  0.003101  -0.166013      0.056125  0.112309     0.000000  0.870074\n",
       "8  0.003545  -0.137547      0.110227  0.064135     0.020202  0.940937\n",
       "9  0.003988  -0.182628      0.068629  0.000000     0.000000  0.885153"
      ]
     },
     "execution_count": 24,
     "metadata": {},
     "output_type": "execute_result"
    }
   ],
   "source": [
    "dataset['n_days'] = mm_scaler(np.log(data))\n",
    "dataset.head(10)"
   ]
  },
  {
   "cell_type": "code",
   "execution_count": 25,
   "metadata": {
    "pycharm": {
     "is_executing": false,
     "name": "#%%\n"
    }
   },
   "outputs": [
    {
     "data": {
      "image/png": "[encoded data removed]",
      "text/plain": [
       "<Figure size 432x288 with 1 Axes>"
      ]
     },
     "metadata": {
      "needs_background": "light"
     },
     "output_type": "display_data"
    }
   ],
   "source": [
    "data = museum_dataset['guests']\n",
    "hist_show(data)"
   ]
  },
  {
   "cell_type": "code",
   "execution_count": 26,
   "metadata": {
    "pycharm": {
     "is_executing": false,
     "name": "#%%\n"
    }
   },
   "outputs": [
    {
     "data": {
      "image/png": "[encoded data removed]",
      "text/plain": [
       "<Figure size 432x288 with 1 Axes>"
      ]
     },
     "metadata": {
      "needs_background": "light"
     },
     "output_type": "display_data"
    }
   ],
   "source": [
    "data = np.clip(data, 1, 1000)\n",
    "hist_show(data)"
   ]
  },
  {
   "cell_type": "code",
   "execution_count": 27,
   "metadata": {
    "pycharm": {
     "is_executing": false,
     "name": "#%%\n"
    }
   },
   "outputs": [
    {
     "data": {
      "image/png": "[encoded data removed]",
      "text/plain": [
       "<Figure size 432x288 with 1 Axes>"
      ]
     },
     "metadata": {
      "needs_background": "light"
     },
     "output_type": "display_data"
    },
    {
     "data": {
      "image/png": "[encoded data removed]",
      "text/plain": [
       "<Figure size 432x288 with 1 Axes>"
      ]
     },
     "metadata": {
      "needs_background": "light"
     },
     "output_type": "display_data"
    }
   ],
   "source": [
    "hist_show(data**0.5)\n",
    "hist_show(np.log(data))"
   ]
  },
  {
   "cell_type": "code",
   "execution_count": 28,
   "metadata": {
    "pycharm": {
     "is_executing": false,
     "name": "#%%\n"
    }
   },
   "outputs": [
    {
     "data": {
      "text/html": [
       "<div>\n",
       "<style scoped>\n",
       "    .dataframe tbody tr th:only-of-type {\n",
       "        vertical-align: middle;\n",
       "    }\n",
       "\n",
       "    .dataframe tbody tr th {\n",
       "        vertical-align: top;\n",
       "    }\n",
       "\n",
       "    .dataframe thead th {\n",
       "        text-align: right;\n",
       "    }\n",
       "</style>\n",
       "<table border=\"1\" class=\"dataframe\">\n",
       "  <thead>\n",
       "    <tr style=\"text-align: right;\">\n",
       "      <th></th>\n",
       "      <th>name</th>\n",
       "      <th>base_fond</th>\n",
       "      <th>science_fond</th>\n",
       "      <th>ams</th>\n",
       "      <th>n_buildings</th>\n",
       "      <th>n_days</th>\n",
       "      <th>guests</th>\n",
       "    </tr>\n",
       "  </thead>\n",
       "  <tbody>\n",
       "    <tr>\n",
       "      <th>0</th>\n",
       "      <td>0.000000</td>\n",
       "      <td>-0.024498</td>\n",
       "      <td>0.143370</td>\n",
       "      <td>0.000000</td>\n",
       "      <td>0.000000</td>\n",
       "      <td>0.938635</td>\n",
       "      <td>0.416807</td>\n",
       "    </tr>\n",
       "    <tr>\n",
       "      <th>1</th>\n",
       "      <td>0.000443</td>\n",
       "      <td>-0.073177</td>\n",
       "      <td>0.165469</td>\n",
       "      <td>0.220794</td>\n",
       "      <td>0.060606</td>\n",
       "      <td>0.945497</td>\n",
       "      <td>0.669817</td>\n",
       "    </tr>\n",
       "    <tr>\n",
       "      <th>2</th>\n",
       "      <td>0.000886</td>\n",
       "      <td>-0.038511</td>\n",
       "      <td>0.100399</td>\n",
       "      <td>0.000000</td>\n",
       "      <td>0.000000</td>\n",
       "      <td>0.860134</td>\n",
       "      <td>0.483929</td>\n",
       "    </tr>\n",
       "    <tr>\n",
       "      <th>3</th>\n",
       "      <td>0.001329</td>\n",
       "      <td>-0.165559</td>\n",
       "      <td>0.077330</td>\n",
       "      <td>0.129641</td>\n",
       "      <td>0.000000</td>\n",
       "      <td>0.994121</td>\n",
       "      <td>0.578533</td>\n",
       "    </tr>\n",
       "    <tr>\n",
       "      <th>4</th>\n",
       "      <td>0.001772</td>\n",
       "      <td>-0.114754</td>\n",
       "      <td>0.182346</td>\n",
       "      <td>0.103005</td>\n",
       "      <td>0.010101</td>\n",
       "      <td>0.860134</td>\n",
       "      <td>0.299209</td>\n",
       "    </tr>\n",
       "    <tr>\n",
       "      <th>5</th>\n",
       "      <td>0.002215</td>\n",
       "      <td>-0.067130</td>\n",
       "      <td>0.164833</td>\n",
       "      <td>0.119234</td>\n",
       "      <td>0.000000</td>\n",
       "      <td>0.870074</td>\n",
       "      <td>0.336200</td>\n",
       "    </tr>\n",
       "    <tr>\n",
       "      <th>6</th>\n",
       "      <td>0.002658</td>\n",
       "      <td>-0.189048</td>\n",
       "      <td>0.029155</td>\n",
       "      <td>0.000000</td>\n",
       "      <td>0.000000</td>\n",
       "      <td>0.931638</td>\n",
       "      <td>0.706198</td>\n",
       "    </tr>\n",
       "    <tr>\n",
       "      <th>7</th>\n",
       "      <td>0.003101</td>\n",
       "      <td>-0.166013</td>\n",
       "      <td>0.056125</td>\n",
       "      <td>0.112309</td>\n",
       "      <td>0.000000</td>\n",
       "      <td>0.870074</td>\n",
       "      <td>0.143788</td>\n",
       "    </tr>\n",
       "    <tr>\n",
       "      <th>8</th>\n",
       "      <td>0.003545</td>\n",
       "      <td>-0.137547</td>\n",
       "      <td>0.110227</td>\n",
       "      <td>0.064135</td>\n",
       "      <td>0.020202</td>\n",
       "      <td>0.940937</td>\n",
       "      <td>0.432222</td>\n",
       "    </tr>\n",
       "    <tr>\n",
       "      <th>9</th>\n",
       "      <td>0.003988</td>\n",
       "      <td>-0.182628</td>\n",
       "      <td>0.068629</td>\n",
       "      <td>0.000000</td>\n",
       "      <td>0.000000</td>\n",
       "      <td>0.885153</td>\n",
       "      <td>0.254476</td>\n",
       "    </tr>\n",
       "  </tbody>\n",
       "</table>\n",
       "</div>"
      ],
      "text/plain": [
       "       name  base_fond  science_fond       ams  n_buildings    n_days  \\\n",
       "0  0.000000  -0.024498      0.143370  0.000000     0.000000  0.938635   \n",
       "1  0.000443  -0.073177      0.165469  0.220794     0.060606  0.945497   \n",
       "2  0.000886  -0.038511      0.100399  0.000000     0.000000  0.860134   \n",
       "3  0.001329  -0.165559      0.077330  0.129641     0.000000  0.994121   \n",
       "4  0.001772  -0.114754      0.182346  0.103005     0.010101  0.860134   \n",
       "5  0.002215  -0.067130      0.164833  0.119234     0.000000  0.870074   \n",
       "6  0.002658  -0.189048      0.029155  0.000000     0.000000  0.931638   \n",
       "7  0.003101  -0.166013      0.056125  0.112309     0.000000  0.870074   \n",
       "8  0.003545  -0.137547      0.110227  0.064135     0.020202  0.940937   \n",
       "9  0.003988  -0.182628      0.068629  0.000000     0.000000  0.885153   \n",
       "\n",
       "     guests  \n",
       "0  0.416807  \n",
       "1  0.669817  \n",
       "2  0.483929  \n",
       "3  0.578533  \n",
       "4  0.299209  \n",
       "5  0.336200  \n",
       "6  0.706198  \n",
       "7  0.143788  \n",
       "8  0.432222  \n",
       "9  0.254476  "
      ]
     },
     "execution_count": 28,
     "metadata": {},
     "output_type": "execute_result"
    }
   ],
   "source": [
    "dataset['guests'] = mm_scaler(np.log(data))\n",
    "dataset.head(10)"
   ]
  },
  {
   "cell_type": "code",
   "execution_count": 29,
   "metadata": {
    "pycharm": {
     "is_executing": false,
     "name": "#%%\n"
    }
   },
   "outputs": [
    {
     "data": {
      "image/png": "[encoded data removed]",
      "text/plain": [
       "<Figure size 432x288 with 1 Axes>"
      ]
     },
     "metadata": {
      "needs_background": "light"
     },
     "output_type": "display_data"
    }
   ],
   "source": [
    "data = museum_dataset['employees']\n",
    "hist_show(data)"
   ]
  },
  {
   "cell_type": "code",
   "execution_count": 30,
   "metadata": {
    "pycharm": {
     "is_executing": false,
     "name": "#%%\n"
    }
   },
   "outputs": [
    {
     "data": {
      "image/png": "[encoded data removed]",
      "text/plain": [
       "<Figure size 432x288 with 1 Axes>"
      ]
     },
     "metadata": {
      "needs_background": "light"
     },
     "output_type": "display_data"
    }
   ],
   "source": [
    "data = np.clip(data, 0, 500)\n",
    "hist_show(data)"
   ]
  },
  {
   "cell_type": "code",
   "execution_count": 31,
   "metadata": {
    "pycharm": {
     "is_executing": false,
     "name": "#%%\n"
    }
   },
   "outputs": [
    {
     "data": {
      "image/png": "[encoded data removed]",
      "text/plain": [
       "<Figure size 432x288 with 1 Axes>"
      ]
     },
     "metadata": {
      "needs_background": "light"
     },
     "output_type": "display_data"
    }
   ],
   "source": [
    "hist_show(data**0.5)"
   ]
  },
  {
   "cell_type": "code",
   "execution_count": 32,
   "metadata": {
    "pycharm": {
     "is_executing": false,
     "name": "#%%\n"
    }
   },
   "outputs": [
    {
     "data": {
      "text/html": [
       "<div>\n",
       "<style scoped>\n",
       "    .dataframe tbody tr th:only-of-type {\n",
       "        vertical-align: middle;\n",
       "    }\n",
       "\n",
       "    .dataframe tbody tr th {\n",
       "        vertical-align: top;\n",
       "    }\n",
       "\n",
       "    .dataframe thead th {\n",
       "        text-align: right;\n",
       "    }\n",
       "</style>\n",
       "<table border=\"1\" class=\"dataframe\">\n",
       "  <thead>\n",
       "    <tr style=\"text-align: right;\">\n",
       "      <th></th>\n",
       "      <th>name</th>\n",
       "      <th>base_fond</th>\n",
       "      <th>science_fond</th>\n",
       "      <th>ams</th>\n",
       "      <th>n_buildings</th>\n",
       "      <th>n_days</th>\n",
       "      <th>guests</th>\n",
       "      <th>employees</th>\n",
       "    </tr>\n",
       "  </thead>\n",
       "  <tbody>\n",
       "    <tr>\n",
       "      <th>0</th>\n",
       "      <td>0.000000</td>\n",
       "      <td>-0.024498</td>\n",
       "      <td>0.143370</td>\n",
       "      <td>0.000000</td>\n",
       "      <td>0.000000</td>\n",
       "      <td>0.938635</td>\n",
       "      <td>0.416807</td>\n",
       "      <td>18</td>\n",
       "    </tr>\n",
       "    <tr>\n",
       "      <th>1</th>\n",
       "      <td>0.000443</td>\n",
       "      <td>-0.073177</td>\n",
       "      <td>0.165469</td>\n",
       "      <td>0.220794</td>\n",
       "      <td>0.060606</td>\n",
       "      <td>0.945497</td>\n",
       "      <td>0.669817</td>\n",
       "      <td>40</td>\n",
       "    </tr>\n",
       "    <tr>\n",
       "      <th>2</th>\n",
       "      <td>0.000886</td>\n",
       "      <td>-0.038511</td>\n",
       "      <td>0.100399</td>\n",
       "      <td>0.000000</td>\n",
       "      <td>0.000000</td>\n",
       "      <td>0.860134</td>\n",
       "      <td>0.483929</td>\n",
       "      <td>18</td>\n",
       "    </tr>\n",
       "    <tr>\n",
       "      <th>3</th>\n",
       "      <td>0.001329</td>\n",
       "      <td>-0.165559</td>\n",
       "      <td>0.077330</td>\n",
       "      <td>0.129641</td>\n",
       "      <td>0.000000</td>\n",
       "      <td>0.994121</td>\n",
       "      <td>0.578533</td>\n",
       "      <td>10</td>\n",
       "    </tr>\n",
       "    <tr>\n",
       "      <th>4</th>\n",
       "      <td>0.001772</td>\n",
       "      <td>-0.114754</td>\n",
       "      <td>0.182346</td>\n",
       "      <td>0.103005</td>\n",
       "      <td>0.010101</td>\n",
       "      <td>0.860134</td>\n",
       "      <td>0.299209</td>\n",
       "      <td>5</td>\n",
       "    </tr>\n",
       "    <tr>\n",
       "      <th>5</th>\n",
       "      <td>0.002215</td>\n",
       "      <td>-0.067130</td>\n",
       "      <td>0.164833</td>\n",
       "      <td>0.119234</td>\n",
       "      <td>0.000000</td>\n",
       "      <td>0.870074</td>\n",
       "      <td>0.336200</td>\n",
       "      <td>3</td>\n",
       "    </tr>\n",
       "    <tr>\n",
       "      <th>6</th>\n",
       "      <td>0.002658</td>\n",
       "      <td>-0.189048</td>\n",
       "      <td>0.029155</td>\n",
       "      <td>0.000000</td>\n",
       "      <td>0.000000</td>\n",
       "      <td>0.931638</td>\n",
       "      <td>0.706198</td>\n",
       "      <td>29</td>\n",
       "    </tr>\n",
       "    <tr>\n",
       "      <th>7</th>\n",
       "      <td>0.003101</td>\n",
       "      <td>-0.166013</td>\n",
       "      <td>0.056125</td>\n",
       "      <td>0.112309</td>\n",
       "      <td>0.000000</td>\n",
       "      <td>0.870074</td>\n",
       "      <td>0.143788</td>\n",
       "      <td>2</td>\n",
       "    </tr>\n",
       "    <tr>\n",
       "      <th>8</th>\n",
       "      <td>0.003545</td>\n",
       "      <td>-0.137547</td>\n",
       "      <td>0.110227</td>\n",
       "      <td>0.064135</td>\n",
       "      <td>0.020202</td>\n",
       "      <td>0.940937</td>\n",
       "      <td>0.432222</td>\n",
       "      <td>20</td>\n",
       "    </tr>\n",
       "    <tr>\n",
       "      <th>9</th>\n",
       "      <td>0.003988</td>\n",
       "      <td>-0.182628</td>\n",
       "      <td>0.068629</td>\n",
       "      <td>0.000000</td>\n",
       "      <td>0.000000</td>\n",
       "      <td>0.885153</td>\n",
       "      <td>0.254476</td>\n",
       "      <td>3</td>\n",
       "    </tr>\n",
       "  </tbody>\n",
       "</table>\n",
       "</div>"
      ],
      "text/plain": [
       "       name  base_fond  science_fond       ams  n_buildings    n_days  \\\n",
       "0  0.000000  -0.024498      0.143370  0.000000     0.000000  0.938635   \n",
       "1  0.000443  -0.073177      0.165469  0.220794     0.060606  0.945497   \n",
       "2  0.000886  -0.038511      0.100399  0.000000     0.000000  0.860134   \n",
       "3  0.001329  -0.165559      0.077330  0.129641     0.000000  0.994121   \n",
       "4  0.001772  -0.114754      0.182346  0.103005     0.010101  0.860134   \n",
       "5  0.002215  -0.067130      0.164833  0.119234     0.000000  0.870074   \n",
       "6  0.002658  -0.189048      0.029155  0.000000     0.000000  0.931638   \n",
       "7  0.003101  -0.166013      0.056125  0.112309     0.000000  0.870074   \n",
       "8  0.003545  -0.137547      0.110227  0.064135     0.020202  0.940937   \n",
       "9  0.003988  -0.182628      0.068629  0.000000     0.000000  0.885153   \n",
       "\n",
       "     guests  employees  \n",
       "0  0.416807         18  \n",
       "1  0.669817         40  \n",
       "2  0.483929         18  \n",
       "3  0.578533         10  \n",
       "4  0.299209          5  \n",
       "5  0.336200          3  \n",
       "6  0.706198         29  \n",
       "7  0.143788          2  \n",
       "8  0.432222         20  \n",
       "9  0.254476          3  "
      ]
     },
     "execution_count": 32,
     "metadata": {},
     "output_type": "execute_result"
    }
   ],
   "source": [
    "dataset['employees'] = data\n",
    "dataset.head(10)"
   ]
  },
  {
   "cell_type": "code",
   "execution_count": 33,
   "metadata": {
    "pycharm": {
     "is_executing": false,
     "name": "#%%\n"
    }
   },
   "outputs": [],
   "source": [
    "dataset.to_csv('prepared_data.csv', index=False)"
   ]
  }
 ],
 "metadata": {
  "kernelspec": {
   "display_name": "Python 3",
   "language": "python",
   "name": "python3"
  },
  "language_info": {
   "codemirror_mode": {
    "name": "ipython",
    "version": 3
   },
   "file_extension": ".py",
   "mimetype": "text/x-python",
   "name": "python",
   "nbconvert_exporter": "python",
   "pygments_lexer": "ipython3",
   "version": "3.7.6"
  },
  "pycharm": {
   "stem_cell": {
    "cell_type": "raw",
    "metadata": {
     "collapsed": false
    },
    "source": []
   }
  }
 },
 "nbformat": 4,
 "nbformat_minor": 2
}
