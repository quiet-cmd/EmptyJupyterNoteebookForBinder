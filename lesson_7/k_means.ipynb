{
 "cells": [
  {
   "cell_type": "code",
   "execution_count": null,
   "metadata": {},
   "outputs": [],
   "source": [
    "# Зависимости\n",
    "import numpy\n",
    "import pandas\n",
    "import matplotlib.pyplot\n",
    "import sklearn\n",
    "from sklearn import cluster\n",
    "from sklearn import datasets"
   ]
  },
  {
   "cell_type": "code",
   "execution_count": null,
   "metadata": {
    "scrolled": true
   },
   "outputs": [],
   "source": [
    "# Сформируем тестовый набор данных из 5000 записей, каждая из которых имеет две координаты.\n",
    "# При этом полученный набор данных будет иметь 4 явно выраженных кластера.\n",
    "test_x, test_y = datasets.make_blobs(n_samples = 5000, n_features = 2, centers = 4)"
   ]
  },
  {
   "cell_type": "code",
   "execution_count": null,
   "metadata": {},
   "outputs": [],
   "source": [
    "# Приведем полученный набор данных к формату pandas.DataFrame\n",
    "x = pandas.DataFrame(test_x)\n",
    "print(x)"
   ]
  },
  {
   "cell_type": "code",
   "execution_count": null,
   "metadata": {},
   "outputs": [],
   "source": [
    "# Отобразим полученный набор данных в виде точек на плоскости\n",
    "matplotlib.pyplot.scatter(x[0], x[1])\n",
    "matplotlib.pyplot.show()"
   ]
  },
  {
   "cell_type": "code",
   "execution_count": null,
   "metadata": {},
   "outputs": [],
   "source": [
    "# Теперь запустим алгоритм k-средних, указав число кластеров, которое нам изначально известно\n",
    "kmeans = sklearn.cluster.KMeans(n_clusters = 4)\n",
    "y = kmeans.fit_predict(x)\n",
    "\n",
    "# Выведем значение инерции (именно оно минимизируется при использовании алгоритма k-средних)\n",
    "print(kmeans.inertia_)"
   ]
  },
  {
   "cell_type": "code",
   "execution_count": null,
   "metadata": {},
   "outputs": [],
   "source": [
    "# Отобразим набор данных, используя разные цвета для разных кластеров\n",
    "matplotlib.pyplot.scatter(t[0], t[1], c = y)\n",
    "matplotlib.pyplot.show()    "
   ]
  },
  {
   "cell_type": "code",
   "execution_count": null,
   "metadata": {
    "scrolled": false
   },
   "outputs": [],
   "source": [
    "# Загрузите файл \"worldcities.csv\" в DataFrame."
   ]
  },
  {
   "cell_type": "code",
   "execution_count": null,
   "metadata": {},
   "outputs": [],
   "source": [
    "# Сформируйте новый DataFrame из столбцов 'lng' и 'lat' оригинального DataFrame."
   ]
  },
  {
   "cell_type": "code",
   "execution_count": null,
   "metadata": {},
   "outputs": [],
   "source": [
    "# Отобразите полученный DataFrame в виде точек, где координаты по оси X берутся из столбца 'lng', а координаты по оси Y - из столбца 'lat'."
   ]
  },
  {
   "cell_type": "code",
   "execution_count": null,
   "metadata": {
    "scrolled": false
   },
   "outputs": [],
   "source": [
    "# Создайте пустой список inertia для хранения результатов вычислительных экмпериментов."
   ]
  },
  {
   "cell_type": "code",
   "execution_count": null,
   "metadata": {},
   "outputs": [],
   "source": [
    "# Напишите цикл по количеству кластеров от 1 до 10.\n",
    "# В цикле запускайте алгоритм k-средних с текущим количеством кластеров,\n",
    "# добавляйте в список inertia значение для текущего результата работы алгоритма,\n",
    "# отобразите набор данных, используя разные цвета для разных кластеров.\n",
    "# Все шаги делайте по аналогии с примером выше."
   ]
  },
  {
   "cell_type": "code",
   "execution_count": null,
   "metadata": {},
   "outputs": [],
   "source": [
    "# Постройте график изменения величины inertia от количества кластеров."
   ]
  }
 ],
 "metadata": {
  "kernelspec": {
   "display_name": "Python 3",
   "language": "python",
   "name": "python3"
  },
  "language_info": {
   "codemirror_mode": {
    "name": "ipython",
    "version": 3
   },
   "file_extension": ".py",
   "mimetype": "text/x-python",
   "name": "python",
   "nbconvert_exporter": "python",
   "pygments_lexer": "ipython3",
   "version": "3.7.4"
  }
 },
 "nbformat": 4,
 "nbformat_minor": 2
}
