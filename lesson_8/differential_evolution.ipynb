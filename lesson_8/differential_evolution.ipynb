{
 "cells": [
  {
   "cell_type": "code",
   "execution_count": null,
   "metadata": {},
   "outputs": [],
   "source": [
    "# Зависимости\n",
    "from scipy.optimize import differential_evolution\n",
    "import numpy as np\n",
    "import matplotlib.pyplot as plt\n",
    "from mpl_toolkits.mplot3d import Axes3D"
   ]
  },
  {
   "cell_type": "code",
   "execution_count": null,
   "metadata": {},
   "outputs": [],
   "source": [
    "# Функция Бута, где во входных параметрах x[0] и x[1] - координаты точки. Глобальный минимум в точке (1,3).\n",
    "def booth(x) :\n",
    "    return (x[0] + 2*x[1] - 7)**2 + (2*x[0] + x[1] - 5)**2"
   ]
  },
  {
   "cell_type": "code",
   "execution_count": null,
   "metadata": {},
   "outputs": [],
   "source": [
    "# Функция Химмельблау, где во входных параметрах x[0] и x[1] - координаты точки.\n",
    "# Четыре минимума в точках (3,2), (-2.805118,3.131312), (-3.779310,-3.283186), (3.584428,-1.848126)\n",
    "def himmel(x) :\n",
    "    return (x[0]**2 + x[1] - 11)**2 + (x[0] + x[1]**2 - 7)**2"
   ]
  },
  {
   "cell_type": "code",
   "execution_count": null,
   "metadata": {},
   "outputs": [],
   "source": [
    "# Задаем функцию для оптимизации\n",
    "func = booth"
   ]
  },
  {
   "cell_type": "code",
   "execution_count": null,
   "metadata": {},
   "outputs": [],
   "source": [
    "# Задаем границы области определения\n",
    "xmin, xmax, ymin, ymax = -100, 100, -100, 100"
   ]
  },
  {
   "cell_type": "code",
   "execution_count": null,
   "metadata": {},
   "outputs": [],
   "source": [
    "# Посмотрим, как выглядит график функции\n",
    "# Задаем сетку координат\n",
    "x = np.arange(xmin, xmax, 0.1)\n",
    "y = np.arange(ymin, ymax, 0.1)\n",
    "X, Y = np.meshgrid(x, y)\n",
    "\n",
    "# Вычисляем значение функции в каждой точке сетки\n",
    "Z = func([X, Y])\n",
    "\n",
    "# Выводим график\n",
    "fig = plt.figure()\n",
    "ax = Axes3D(fig)\n",
    "ax.plot_surface(X, Y, Z)\n",
    "plt.show()"
   ]
  },
  {
   "cell_type": "code",
   "execution_count": null,
   "metadata": {},
   "outputs": [],
   "source": [
    "# Задаем параметры для метода дифференциальной эволюции\n",
    "bounds = [(xmin, xmax), (ymin, ymax)]\n",
    "strategy = 'best1bin' # 'best1exp', 'rand1exp', 'randtobest1exp', 'currenttobest1exp', 'best2exp', 'rand2exp', 'randtobest1bin', 'currenttobest1bin', 'best2bin', 'rand2bin', 'rand1bin'\n",
    "maxiter = 100\n",
    "popsize = 20\n",
    "init = 'latinhypercube' # 'random'\n",
    "mutation = 0.5\n",
    "recombination = 0.5"
   ]
  },
  {
   "cell_type": "code",
   "execution_count": null,
   "metadata": {},
   "outputs": [],
   "source": [
    "# Запускаем алгоритм\n",
    "result = differential_evolution(func, bounds, strategy=strategy, maxiter=maxiter, popsize=popsize, init=init, mutation=mutation, recombination=recombination, disp=False)\n",
    "\n",
    "# Выводим результаты: координаты найденного минимума, значение оптимизируемой функции в нём, число поколений\n",
    "print(result.x[0], result.x[1])\n",
    "print(result.fun)\n",
    "print(result.nit)"
   ]
  },
  {
   "cell_type": "code",
   "execution_count": null,
   "metadata": {},
   "outputs": [],
   "source": [
    "# Только для функции Химмельблау!\n",
    "# Поиск всех четырех минимумов\n",
    "minimums = []\n",
    "attempts = 0\n",
    "while len(minimums) < 4 :\n",
    "    result = differential_evolution(func, bounds, strategy=strategy, maxiter=maxiter, popsize=popsize, init=init, mutation=mutation, recombination=recombination, disp=False)\n",
    "    attempts += 1\n",
    "    point = (round(result.x[0], 4), round(result.x[1], 4))\n",
    "    if result.success and point not in minimums :\n",
    "        minimums.append(point)\n",
    "    if attempts > 100 :\n",
    "        break\n",
    "\n",
    "print(minimums)\n",
    "print(attempts)"
   ]
  }
 ],
 "metadata": {
  "kernelspec": {
   "display_name": "Python 3",
   "language": "python",
   "name": "python3"
  },
  "language_info": {
   "codemirror_mode": {
    "name": "ipython",
    "version": 3
   },
   "file_extension": ".py",
   "mimetype": "text/x-python",
   "name": "python",
   "nbconvert_exporter": "python",
   "pygments_lexer": "ipython3",
   "version": "3.7.4"
  }
 },
 "nbformat": 4,
 "nbformat_minor": 2
}
