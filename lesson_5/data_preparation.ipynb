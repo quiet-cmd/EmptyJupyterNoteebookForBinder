{
 "cells": [
  {
   "cell_type": "code",
   "execution_count": 59,
   "metadata": {
    "pycharm": {
     "is_executing": false
    },
    "scrolled": false
   },
   "outputs": [],
   "source": [
    "# Загрузка зависимостей\n",
    "import numpy\n",
    "import pandas\n",
    "import matplotlib.pyplot\n",
    "from sklearn.preprocessing import StandardScaler\n",
    "from sklearn.preprocessing import MinMaxScaler"
   ]
  },
  {
   "cell_type": "code",
   "execution_count": 60,
   "metadata": {
    "pycharm": {
     "is_executing": false
    },
    "scrolled": true
   },
   "outputs": [
    {
     "data": {
      "text/plain": "         0         1    2      3      4    5   6    7     8     9\n0  adviser     32/60  125    256   6000  256  16  128   198   199\n1   amdahl    470v/7   29   8000  32000   32   8   32   269   253\n2   amdahl   470v/7a   29   8000  32000   32   8   32   220   253\n3   amdahl   470v/7b   29   8000  32000   32   8   32   172   253\n4   amdahl   470v/7c   29   8000  16000   32   8   16   132   132\n5   amdahl    470v/b   26   8000  32000   64   8   32   318   290\n6   amdahl  580-5840   23  16000  32000   64  16   32   367   381\n7   amdahl  580-5850   23  16000  32000   64  16   32   489   381\n8   amdahl  580-5860   23  16000  64000   64  16   32   636   749\n9   amdahl  580-5880   23  32000  64000  128  32   64  1144  1238",
      "text/html": "<div>\n<style scoped>\n    .dataframe tbody tr th:only-of-type {\n        vertical-align: middle;\n    }\n\n    .dataframe tbody tr th {\n        vertical-align: top;\n    }\n\n    .dataframe thead th {\n        text-align: right;\n    }\n</style>\n<table border=\"1\" class=\"dataframe\">\n  <thead>\n    <tr style=\"text-align: right;\">\n      <th></th>\n      <th>0</th>\n      <th>1</th>\n      <th>2</th>\n      <th>3</th>\n      <th>4</th>\n      <th>5</th>\n      <th>6</th>\n      <th>7</th>\n      <th>8</th>\n      <th>9</th>\n    </tr>\n  </thead>\n  <tbody>\n    <tr>\n      <th>0</th>\n      <td>adviser</td>\n      <td>32/60</td>\n      <td>125</td>\n      <td>256</td>\n      <td>6000</td>\n      <td>256</td>\n      <td>16</td>\n      <td>128</td>\n      <td>198</td>\n      <td>199</td>\n    </tr>\n    <tr>\n      <th>1</th>\n      <td>amdahl</td>\n      <td>470v/7</td>\n      <td>29</td>\n      <td>8000</td>\n      <td>32000</td>\n      <td>32</td>\n      <td>8</td>\n      <td>32</td>\n      <td>269</td>\n      <td>253</td>\n    </tr>\n    <tr>\n      <th>2</th>\n      <td>amdahl</td>\n      <td>470v/7a</td>\n      <td>29</td>\n      <td>8000</td>\n      <td>32000</td>\n      <td>32</td>\n      <td>8</td>\n      <td>32</td>\n      <td>220</td>\n      <td>253</td>\n    </tr>\n    <tr>\n      <th>3</th>\n      <td>amdahl</td>\n      <td>470v/7b</td>\n      <td>29</td>\n      <td>8000</td>\n      <td>32000</td>\n      <td>32</td>\n      <td>8</td>\n      <td>32</td>\n      <td>172</td>\n      <td>253</td>\n    </tr>\n    <tr>\n      <th>4</th>\n      <td>amdahl</td>\n      <td>470v/7c</td>\n      <td>29</td>\n      <td>8000</td>\n      <td>16000</td>\n      <td>32</td>\n      <td>8</td>\n      <td>16</td>\n      <td>132</td>\n      <td>132</td>\n    </tr>\n    <tr>\n      <th>5</th>\n      <td>amdahl</td>\n      <td>470v/b</td>\n      <td>26</td>\n      <td>8000</td>\n      <td>32000</td>\n      <td>64</td>\n      <td>8</td>\n      <td>32</td>\n      <td>318</td>\n      <td>290</td>\n    </tr>\n    <tr>\n      <th>6</th>\n      <td>amdahl</td>\n      <td>580-5840</td>\n      <td>23</td>\n      <td>16000</td>\n      <td>32000</td>\n      <td>64</td>\n      <td>16</td>\n      <td>32</td>\n      <td>367</td>\n      <td>381</td>\n    </tr>\n    <tr>\n      <th>7</th>\n      <td>amdahl</td>\n      <td>580-5850</td>\n      <td>23</td>\n      <td>16000</td>\n      <td>32000</td>\n      <td>64</td>\n      <td>16</td>\n      <td>32</td>\n      <td>489</td>\n      <td>381</td>\n    </tr>\n    <tr>\n      <th>8</th>\n      <td>amdahl</td>\n      <td>580-5860</td>\n      <td>23</td>\n      <td>16000</td>\n      <td>64000</td>\n      <td>64</td>\n      <td>16</td>\n      <td>32</td>\n      <td>636</td>\n      <td>749</td>\n    </tr>\n    <tr>\n      <th>9</th>\n      <td>amdahl</td>\n      <td>580-5880</td>\n      <td>23</td>\n      <td>32000</td>\n      <td>64000</td>\n      <td>128</td>\n      <td>32</td>\n      <td>64</td>\n      <td>1144</td>\n      <td>1238</td>\n    </tr>\n  </tbody>\n</table>\n</div>"
     },
     "metadata": {},
     "output_type": "execute_result",
     "execution_count": 60
    }
   ],
   "source": [
    "# Загрузка и анализ набора данных\n",
    "row_dataset = pandas.read_csv('machine.data.csv', header=None) # Убедиться в правильности пути к файлу!\n",
    "row_dataset.head(10) # Вывод первых 10 строк"
   ]
  },
  {
   "cell_type": "code",
   "execution_count": 61,
   "metadata": {
    "pycharm": {
     "is_executing": false,
     "name": "#%%\n"
    }
   },
   "outputs": [
    {
     "name": "stdout",
     "text": [
      "(209, 10)\n"
     ],
     "output_type": "stream"
    }
   ],
   "source": [
    "# Размер набора данных\n",
    "print(row_dataset.shape)"
   ]
  },
  {
   "cell_type": "code",
   "execution_count": 62,
   "metadata": {
    "pycharm": {
     "is_executing": false,
     "name": "#%%\n"
    }
   },
   "outputs": [],
   "source": [
    "# Создаем набор данных, в котором будут храниться обработанные данные\n",
    "dataset = pandas.DataFrame()"
   ]
  },
  {
   "cell_type": "code",
   "execution_count": 63,
   "metadata": {
    "pycharm": {
     "is_executing": false
    },
    "scrolled": true
   },
   "outputs": [
    {
     "data": {
      "text/plain": "<Figure size 432x288 with 1 Axes>",
      "image/png": "[encoded data removed]"
     },
     "metadata": {
      "needs_background": "light"
     },
     "output_type": "display_data"
    }
   ],
   "source": [
    "# Обработка данных в столбце №3 (MMIN: minimum main memory in kilobytes (integer))\n",
    "\n",
    "# Загружаем данные\n",
    "data = row_dataset[3]\n",
    "\n",
    "# Анализируем распределение, используя гистограмму. Параметр bins отвечает за число столбцов в гистрограмме.\n",
    "matplotlib.pyplot.hist(data, bins = 50)\n",
    "matplotlib.pyplot.show()"
   ]
  },
  {
   "cell_type": "code",
   "execution_count": 64,
   "metadata": {
    "pycharm": {
     "is_executing": false
    },
    "scrolled": false
   },
   "outputs": [
    {
     "data": {
      "text/plain": "<Figure size 432x288 with 1 Axes>",
      "image/png": "[encoded data removed]"
     },
     "metadata": {
      "needs_background": "light"
     },
     "output_type": "display_data"
    }
   ],
   "source": [
    "# Наблюдаем проблему №4 - выброс в районе 32000. Применяем отсечение с разрешенным интервалом от 0 до 16000.\n",
    "data = numpy.clip(data, 0, 16000)\n",
    "\n",
    "# Результат\n",
    "matplotlib.pyplot.hist(data, bins = 50)\n",
    "matplotlib.pyplot.show()"
   ]
  },
  {
   "cell_type": "code",
   "execution_count": 65,
   "metadata": {
    "pycharm": {
     "is_executing": false
    },
    "scrolled": true
   },
   "outputs": [
    {
     "data": {
      "text/plain": "<Figure size 432x288 with 1 Axes>",
      "image/png": "[encoded data removed]"
     },
     "metadata": {
      "needs_background": "light"
     },
     "output_type": "display_data"
    },
    {
     "data": {
      "text/plain": "<Figure size 432x288 with 1 Axes>",
      "image/png": "[encoded data removed]"
     },
     "metadata": {
      "needs_background": "light"
     },
     "output_type": "display_data"
    }
   ],
   "source": [
    "# Наблюдаем проблему №3 - очень неравномерное распределение. Попробуем применить к данным логарифм и извлечение квадратного корня.\n",
    "matplotlib.pyplot.hist(numpy.log(data), bins = 50)\n",
    "matplotlib.pyplot.show()\n",
    "\n",
    "matplotlib.pyplot.hist(data ** 0.5, bins = 50)\n",
    "matplotlib.pyplot.show()"
   ]
  },
  {
   "cell_type": "code",
   "execution_count": 66,
   "metadata": {
    "pycharm": {
     "is_executing": false
    }
   },
   "outputs": [],
   "source": [
    "# Логарифм даёт более равномерно распределенные данные, используем его\n",
    "data = numpy.log(data)"
   ]
  },
  {
   "cell_type": "code",
   "execution_count": 67,
   "metadata": {
    "pycharm": {
     "is_executing": false
    },
    "scrolled": true
   },
   "outputs": [
    {
     "name": "stdout",
     "text": [
      "4.1588830833596715\n",
      "9.680344001221918\n"
     ],
     "output_type": "stream"
    }
   ],
   "source": [
    "# Теперь данные имеют следующую область значений\n",
    "print(numpy.min(data))\n",
    "print(numpy.max(data))"
   ]
  },
  {
   "cell_type": "code",
   "execution_count": 68,
   "metadata": {
    "pycharm": {
     "is_executing": false
    }
   },
   "outputs": [],
   "source": [
    "# Приводим значения к интервалу (0, 1), считая, что они ближе к равномерному распределению\n",
    "scaler = MinMaxScaler()\n",
    "data = numpy.array(data).reshape(-1,1)\n",
    "data = scaler.fit_transform(data)"
   ]
  },
  {
   "cell_type": "code",
   "execution_count": 69,
   "metadata": {
    "pycharm": {
     "is_executing": false
    }
   },
   "outputs": [
    {
     "data": {
      "text/plain": "<Figure size 432x288 with 1 Axes>",
      "image/png": "[encoded data removed]"
     },
     "metadata": {
      "needs_background": "light"
     },
     "output_type": "display_data"
    }
   ],
   "source": [
    "# Результат\n",
    "matplotlib.pyplot.hist(data, bins = 50)\n",
    "matplotlib.pyplot.show()"
   ]
  },
  {
   "cell_type": "code",
   "execution_count": 70,
   "metadata": {
    "pycharm": {
     "is_executing": false
    },
    "scrolled": true
   },
   "outputs": [
    {
     "data": {
      "text/plain": "<Figure size 432x288 with 1 Axes>",
      "image/png": "[encoded data removed]"
     },
     "metadata": {
      "needs_background": "light"
     },
     "output_type": "display_data"
    }
   ],
   "source": [
    "# Можем взглянуть на сами данные\n",
    "matplotlib.pyplot.plot(data)\n",
    "matplotlib.pyplot.show()"
   ]
  },
  {
   "cell_type": "code",
   "execution_count": 71,
   "metadata": {
    "pycharm": {
     "is_executing": false
    },
    "scrolled": true
   },
   "outputs": [
    {
     "name": "stdout",
     "text": [
      "2\n"
     ],
     "output_type": "stream"
    }
   ],
   "source": [
    "# Проверяем и убеждаемся, что в процессе трансформации данные получили \"лишнее\" измерение\n",
    "print(data.ndim)"
   ]
  },
  {
   "cell_type": "code",
   "execution_count": 72,
   "metadata": {
    "pycharm": {
     "is_executing": false
    }
   },
   "outputs": [],
   "source": [
    "# Конвертируем в одномерный массив\n",
    "data = data.flatten()"
   ]
  },
  {
   "cell_type": "code",
   "execution_count": 73,
   "metadata": {
    "pycharm": {
     "is_executing": false
    }
   },
   "outputs": [],
   "source": [
    "# Сохраняем в итоговом наборе данных\n",
    "dataset['MMIN'] = data"
   ]
  },
  {
   "cell_type": "code",
   "execution_count": 74,
   "metadata": {
    "pycharm": {
     "is_executing": false
    },
    "scrolled": true
   },
   "outputs": [
    {
     "data": {
      "text/plain": "<Figure size 432x288 with 1 Axes>",
      "image/png": "[encoded data removed]"
     },
     "metadata": {
      "needs_background": "light"
     },
     "output_type": "display_data"
    }
   ],
   "source": [
    "# Обработка данных в столбце №7 (CHMAX: maximum channels in units (integer))\n",
    "\n",
    "# Загружаем данные\n",
    "data = row_dataset[7]\n",
    "\n",
    "# Анализируем распределение, используя гистограмму. Параметр bins отвечает за число столбцов в гистрограмме.\n",
    "matplotlib.pyplot.hist(data, bins = 50)\n",
    "matplotlib.pyplot.show()"
   ]
  },
  {
   "cell_type": "code",
   "execution_count": 75,
   "metadata": {
    "pycharm": {
     "is_executing": false
    },
    "scrolled": false
   },
   "outputs": [
    {
     "data": {
      "text/plain": "<Figure size 432x288 with 1 Axes>",
      "image/png": "[encoded data removed]"
     },
     "metadata": {
      "needs_background": "light"
     },
     "output_type": "display_data"
    }
   ],
   "source": [
    "# Наблюдаем проблему №4 - выбросы значений в интервале (100, 175). Применяем отсечение с разрешенным интервалом от 0 до 70.\n",
    "data = numpy.clip(data, 0, 70)\n",
    "\n",
    "# Результат\n",
    "matplotlib.pyplot.hist(data, bins = 50)\n",
    "matplotlib.pyplot.show()"
   ]
  },
  {
   "cell_type": "code",
   "execution_count": 76,
   "metadata": {
    "pycharm": {
     "is_executing": false
    },
    "scrolled": true
   },
   "outputs": [
    {
     "data": {
      "text/plain": "<Figure size 432x288 with 1 Axes>",
      "image/png": "[encoded data removed]"
     },
     "metadata": {
      "needs_background": "light"
     },
     "output_type": "display_data"
    }
   ],
   "source": [
    "# Наблюдаем проблему №3 - очень неравномерное распределение. Применять логарифм нельзя, т.к. среди значений есть нули.\n",
    "# Применим извлечение квадратного корня.\n",
    "\n",
    "matplotlib.pyplot.hist(data ** 0.5, bins = 50)\n",
    "matplotlib.pyplot.show()"
   ]
  },
  {
   "cell_type": "code",
   "execution_count": 77,
   "metadata": {
    "pycharm": {
     "is_executing": false
    }
   },
   "outputs": [],
   "source": [
    "data = data ** 0.5"
   ]
  },
  {
   "cell_type": "code",
   "execution_count": 78,
   "metadata": {
    "pycharm": {
     "is_executing": false
    },
    "scrolled": true
   },
   "outputs": [
    {
     "name": "stdout",
     "text": [
      "0.0\n",
      "8.366600265340756\n"
     ],
     "output_type": "stream"
    }
   ],
   "source": [
    "# Теперь данные имеют следующую область значений\n",
    "print(numpy.min(data))\n",
    "print(numpy.max(data))"
   ]
  },
  {
   "cell_type": "code",
   "execution_count": 79,
   "metadata": {
    "pycharm": {
     "is_executing": false
    }
   },
   "outputs": [],
   "source": [
    "# Приводим значения к интервалу (0, 1), считая, что они ближе к равномерному распределению\n",
    "scaler = MinMaxScaler()\n",
    "data = numpy.array(data).reshape(-1,1)\n",
    "data = scaler.fit_transform(data)"
   ]
  },
  {
   "cell_type": "code",
   "execution_count": 80,
   "metadata": {
    "pycharm": {
     "is_executing": false
    }
   },
   "outputs": [
    {
     "data": {
      "text/plain": "<Figure size 432x288 with 1 Axes>",
      "image/png": "[encoded data removed]"
     },
     "metadata": {
      "needs_background": "light"
     },
     "output_type": "display_data"
    }
   ],
   "source": [
    "# Результат\n",
    "matplotlib.pyplot.hist(data, bins = 50)\n",
    "matplotlib.pyplot.show()"
   ]
  },
  {
   "cell_type": "code",
   "execution_count": 81,
   "metadata": {
    "pycharm": {
     "is_executing": false
    },
    "scrolled": true
   },
   "outputs": [
    {
     "data": {
      "text/plain": "<Figure size 432x288 with 1 Axes>",
      "image/png": "[encoded data removed]"
     },
     "metadata": {
      "needs_background": "light"
     },
     "output_type": "display_data"
    }
   ],
   "source": [
    "# Можем взглянуть на сами данные\n",
    "matplotlib.pyplot.plot(data)\n",
    "matplotlib.pyplot.show()"
   ]
  },
  {
   "cell_type": "code",
   "execution_count": 82,
   "metadata": {
    "pycharm": {
     "is_executing": false
    },
    "scrolled": true
   },
   "outputs": [
    {
     "name": "stdout",
     "text": [
      "2\n"
     ],
     "output_type": "stream"
    }
   ],
   "source": [
    "# Проверяем и убеждаемся, что в процессе трансформации данные получили \"лишнее\" измерение\n",
    "print(data.ndim)"
   ]
  },
  {
   "cell_type": "code",
   "execution_count": 83,
   "metadata": {
    "pycharm": {
     "is_executing": false
    }
   },
   "outputs": [],
   "source": [
    "# Конвертируем в одномерный массив\n",
    "data = data.flatten()"
   ]
  },
  {
   "cell_type": "code",
   "execution_count": 84,
   "metadata": {
    "pycharm": {
     "is_executing": false
    }
   },
   "outputs": [
    {
     "data": {
      "text/plain": "       MMIN     CHMAX\n0  0.251074  1.000000\n1  0.874463  0.676123\n2  0.874463  0.676123\n3  0.874463  0.676123\n4  0.874463  0.478091\n5  0.874463  0.676123\n6  1.000000  0.676123\n7  1.000000  0.676123\n8  1.000000  0.676123\n9  1.000000  0.956183",
      "text/html": "<div>\n<style scoped>\n    .dataframe tbody tr th:only-of-type {\n        vertical-align: middle;\n    }\n\n    .dataframe tbody tr th {\n        vertical-align: top;\n    }\n\n    .dataframe thead th {\n        text-align: right;\n    }\n</style>\n<table border=\"1\" class=\"dataframe\">\n  <thead>\n    <tr style=\"text-align: right;\">\n      <th></th>\n      <th>MMIN</th>\n      <th>CHMAX</th>\n    </tr>\n  </thead>\n  <tbody>\n    <tr>\n      <th>0</th>\n      <td>0.251074</td>\n      <td>1.000000</td>\n    </tr>\n    <tr>\n      <th>1</th>\n      <td>0.874463</td>\n      <td>0.676123</td>\n    </tr>\n    <tr>\n      <th>2</th>\n      <td>0.874463</td>\n      <td>0.676123</td>\n    </tr>\n    <tr>\n      <th>3</th>\n      <td>0.874463</td>\n      <td>0.676123</td>\n    </tr>\n    <tr>\n      <th>4</th>\n      <td>0.874463</td>\n      <td>0.478091</td>\n    </tr>\n    <tr>\n      <th>5</th>\n      <td>0.874463</td>\n      <td>0.676123</td>\n    </tr>\n    <tr>\n      <th>6</th>\n      <td>1.000000</td>\n      <td>0.676123</td>\n    </tr>\n    <tr>\n      <th>7</th>\n      <td>1.000000</td>\n      <td>0.676123</td>\n    </tr>\n    <tr>\n      <th>8</th>\n      <td>1.000000</td>\n      <td>0.676123</td>\n    </tr>\n    <tr>\n      <th>9</th>\n      <td>1.000000</td>\n      <td>0.956183</td>\n    </tr>\n  </tbody>\n</table>\n</div>"
     },
     "metadata": {},
     "output_type": "execute_result",
     "execution_count": 84
    }
   ],
   "source": [
    "# Сохраняем в итоговом наборе данных\n",
    "dataset['CHMAX'] = data\n",
    "dataset.head(10)"
   ]
  },
  {
   "cell_type": "code",
   "execution_count": 85,
   "metadata": {
    "pycharm": {
     "is_executing": false,
     "name": "#%%\n"
    }
   },
   "outputs": [
    {
     "data": {
      "text/plain": "<Figure size 432x288 with 1 Axes>",
      "image/png": "[encoded data removed]"
     },
     "metadata": {
      "needs_background": "light"
     },
     "output_type": "display_data"
    }
   ],
   "source": [
    "# Обработка данных в столбце №4\n",
    "\n",
    "# Загружаем данные\n",
    "data = row_dataset[4]\n",
    "\n",
    "# Анализируем распределение\n",
    "matplotlib.pyplot.hist(data, bins = 50)\n",
    "matplotlib.pyplot.show()\n"
   ]
  },
  {
   "cell_type": "code",
   "execution_count": 86,
   "metadata": {
    "pycharm": {
     "is_executing": false,
     "name": "#%%\n"
    }
   },
   "outputs": [
    {
     "data": {
      "text/plain": "<Figure size 432x288 with 1 Axes>",
      "image/png": "[encoded data removed]"
     },
     "metadata": {
      "needs_background": "light"
     },
     "output_type": "display_data"
    }
   ],
   "source": [
    "data = numpy.clip(data,0,30000)\n",
    "matplotlib.pyplot.hist(data, bins = 50)\n",
    "matplotlib.pyplot.show()"
   ]
  },
  {
   "cell_type": "code",
   "execution_count": 87,
   "metadata": {
    "pycharm": {
     "is_executing": false,
     "name": "#%%\n"
    }
   },
   "outputs": [
    {
     "data": {
      "text/plain": "<Figure size 432x288 with 1 Axes>",
      "image/png": "[encoded data removed]"
     },
     "metadata": {
      "needs_background": "light"
     },
     "output_type": "display_data"
    }
   ],
   "source": [
    "matplotlib.pyplot.hist(data ** 0.5, bins = 50)\n",
    "matplotlib.pyplot.show()\n",
    "data = data ** 0.5"
   ]
  },
  {
   "cell_type": "code",
   "execution_count": 88,
   "metadata": {
    "pycharm": {
     "is_executing": false,
     "name": "#%%\n"
    }
   },
   "outputs": [],
   "source": [
    "# Приводим значения к интервалу (0, 1), считая, что они ближе к равномерному распределению\n",
    "data = numpy.array(data).reshape(-1,1)\n",
    "data = MinMaxScaler().fit_transform(data)"
   ]
  },
  {
   "cell_type": "code",
   "execution_count": 89,
   "metadata": {
    "pycharm": {
     "is_executing": false,
     "name": "#%%\n"
    }
   },
   "outputs": [
    {
     "data": {
      "text/plain": "<Figure size 432x288 with 1 Axes>",
      "image/png": "[encoded data removed]"
     },
     "metadata": {
      "needs_background": "light"
     },
     "output_type": "display_data"
    },
    {
     "data": {
      "text/plain": "       MMIN     CHMAX      MMAX\n0  0.251074  1.000000  0.420445\n1  0.874463  0.676123  1.000000\n2  0.874463  0.676123  1.000000\n3  0.874463  0.676123  1.000000\n4  0.874463  0.478091  0.717236\n5  0.874463  0.676123  1.000000\n6  1.000000  0.676123  1.000000\n7  1.000000  0.676123  1.000000\n8  1.000000  0.676123  1.000000\n9  1.000000  0.956183  1.000000",
      "text/html": "<div>\n<style scoped>\n    .dataframe tbody tr th:only-of-type {\n        vertical-align: middle;\n    }\n\n    .dataframe tbody tr th {\n        vertical-align: top;\n    }\n\n    .dataframe thead th {\n        text-align: right;\n    }\n</style>\n<table border=\"1\" class=\"dataframe\">\n  <thead>\n    <tr style=\"text-align: right;\">\n      <th></th>\n      <th>MMIN</th>\n      <th>CHMAX</th>\n      <th>MMAX</th>\n    </tr>\n  </thead>\n  <tbody>\n    <tr>\n      <th>0</th>\n      <td>0.251074</td>\n      <td>1.000000</td>\n      <td>0.420445</td>\n    </tr>\n    <tr>\n      <th>1</th>\n      <td>0.874463</td>\n      <td>0.676123</td>\n      <td>1.000000</td>\n    </tr>\n    <tr>\n      <th>2</th>\n      <td>0.874463</td>\n      <td>0.676123</td>\n      <td>1.000000</td>\n    </tr>\n    <tr>\n      <th>3</th>\n      <td>0.874463</td>\n      <td>0.676123</td>\n      <td>1.000000</td>\n    </tr>\n    <tr>\n      <th>4</th>\n      <td>0.874463</td>\n      <td>0.478091</td>\n      <td>0.717236</td>\n    </tr>\n    <tr>\n      <th>5</th>\n      <td>0.874463</td>\n      <td>0.676123</td>\n      <td>1.000000</td>\n    </tr>\n    <tr>\n      <th>6</th>\n      <td>1.000000</td>\n      <td>0.676123</td>\n      <td>1.000000</td>\n    </tr>\n    <tr>\n      <th>7</th>\n      <td>1.000000</td>\n      <td>0.676123</td>\n      <td>1.000000</td>\n    </tr>\n    <tr>\n      <th>8</th>\n      <td>1.000000</td>\n      <td>0.676123</td>\n      <td>1.000000</td>\n    </tr>\n    <tr>\n      <th>9</th>\n      <td>1.000000</td>\n      <td>0.956183</td>\n      <td>1.000000</td>\n    </tr>\n  </tbody>\n</table>\n</div>"
     },
     "metadata": {},
     "output_type": "execute_result",
     "execution_count": 89
    }
   ],
   "source": [
    "# Результат\n",
    "matplotlib.pyplot.hist(data, bins = 50)\n",
    "matplotlib.pyplot.show()\n",
    "data = data.flatten()\n",
    "dataset['MMAX'] = data\n",
    "dataset.head(10)"
   ]
  },
  {
   "cell_type": "code",
   "execution_count": 90,
   "metadata": {
    "pycharm": {
     "is_executing": false,
     "name": "#%%\n"
    }
   },
   "outputs": [
    {
     "data": {
      "text/plain": "<Figure size 432x288 with 1 Axes>",
      "image/png": "[encoded data removed]"
     },
     "metadata": {
      "needs_background": "light"
     },
     "output_type": "display_data"
    }
   ],
   "source": [
    "#Обработка столбца №5\n",
    "\n",
    "data = row_dataset[5]\n",
    "matplotlib.pyplot.hist(data, bins = 50)\n",
    "matplotlib.pyplot.show()"
   ]
  },
  {
   "cell_type": "code",
   "execution_count": 91,
   "metadata": {
    "pycharm": {
     "is_executing": false,
     "name": "#%%\n"
    }
   },
   "outputs": [
    {
     "data": {
      "text/plain": "<Figure size 432x288 with 1 Axes>",
      "image/png": "[encoded data removed]"
     },
     "metadata": {
      "needs_background": "light"
     },
     "output_type": "display_data"
    }
   ],
   "source": [
    "data = numpy.clip(data, 0, 150)\n",
    "matplotlib.pyplot.hist(data, bins=50)\n",
    "matplotlib.pyplot.show()"
   ]
  },
  {
   "cell_type": "code",
   "execution_count": 92,
   "metadata": {
    "pycharm": {
     "is_executing": false,
     "name": "#%%\n"
    }
   },
   "outputs": [
    {
     "data": {
      "text/plain": "<Figure size 432x288 with 1 Axes>",
      "image/png": "[encoded data removed]"
     },
     "metadata": {
      "needs_background": "light"
     },
     "output_type": "display_data"
    }
   ],
   "source": [
    "\n",
    "matplotlib.pyplot.hist(data**0.5, bins=50)\n",
    "matplotlib.pyplot.show()\n",
    "data = data**0.5"
   ]
  },
  {
   "cell_type": "code",
   "execution_count": 93,
   "metadata": {
    "pycharm": {
     "is_executing": false,
     "name": "#%%\n"
    }
   },
   "outputs": [
    {
     "data": {
      "text/plain": "       MMIN     CHMAX      MMAX      CACH\n0  0.251074  1.000000  0.420445  1.000000\n1  0.874463  0.676123  1.000000  0.461880\n2  0.874463  0.676123  1.000000  0.461880\n3  0.874463  0.676123  1.000000  0.461880\n4  0.874463  0.478091  0.717236  0.461880\n5  0.874463  0.676123  1.000000  0.653197\n6  1.000000  0.676123  1.000000  0.653197\n7  1.000000  0.676123  1.000000  0.653197\n8  1.000000  0.676123  1.000000  0.653197\n9  1.000000  0.956183  1.000000  0.923760",
      "text/html": "<div>\n<style scoped>\n    .dataframe tbody tr th:only-of-type {\n        vertical-align: middle;\n    }\n\n    .dataframe tbody tr th {\n        vertical-align: top;\n    }\n\n    .dataframe thead th {\n        text-align: right;\n    }\n</style>\n<table border=\"1\" class=\"dataframe\">\n  <thead>\n    <tr style=\"text-align: right;\">\n      <th></th>\n      <th>MMIN</th>\n      <th>CHMAX</th>\n      <th>MMAX</th>\n      <th>CACH</th>\n    </tr>\n  </thead>\n  <tbody>\n    <tr>\n      <th>0</th>\n      <td>0.251074</td>\n      <td>1.000000</td>\n      <td>0.420445</td>\n      <td>1.000000</td>\n    </tr>\n    <tr>\n      <th>1</th>\n      <td>0.874463</td>\n      <td>0.676123</td>\n      <td>1.000000</td>\n      <td>0.461880</td>\n    </tr>\n    <tr>\n      <th>2</th>\n      <td>0.874463</td>\n      <td>0.676123</td>\n      <td>1.000000</td>\n      <td>0.461880</td>\n    </tr>\n    <tr>\n      <th>3</th>\n      <td>0.874463</td>\n      <td>0.676123</td>\n      <td>1.000000</td>\n      <td>0.461880</td>\n    </tr>\n    <tr>\n      <th>4</th>\n      <td>0.874463</td>\n      <td>0.478091</td>\n      <td>0.717236</td>\n      <td>0.461880</td>\n    </tr>\n    <tr>\n      <th>5</th>\n      <td>0.874463</td>\n      <td>0.676123</td>\n      <td>1.000000</td>\n      <td>0.653197</td>\n    </tr>\n    <tr>\n      <th>6</th>\n      <td>1.000000</td>\n      <td>0.676123</td>\n      <td>1.000000</td>\n      <td>0.653197</td>\n    </tr>\n    <tr>\n      <th>7</th>\n      <td>1.000000</td>\n      <td>0.676123</td>\n      <td>1.000000</td>\n      <td>0.653197</td>\n    </tr>\n    <tr>\n      <th>8</th>\n      <td>1.000000</td>\n      <td>0.676123</td>\n      <td>1.000000</td>\n      <td>0.653197</td>\n    </tr>\n    <tr>\n      <th>9</th>\n      <td>1.000000</td>\n      <td>0.956183</td>\n      <td>1.000000</td>\n      <td>0.923760</td>\n    </tr>\n  </tbody>\n</table>\n</div>"
     },
     "metadata": {},
     "output_type": "execute_result",
     "execution_count": 93
    }
   ],
   "source": [
    "data = numpy.array(data).reshape(-1,1)\n",
    "data = MinMaxScaler().fit_transform(data)\n",
    "data = data.flatten()\n",
    "dataset['CACH'] = data\n",
    "dataset.head(10)"
   ]
  },
  {
   "cell_type": "code",
   "execution_count": 94,
   "metadata": {
    "pycharm": {
     "is_executing": false,
     "name": "#%%\n"
    }
   },
   "outputs": [
    {
     "data": {
      "text/plain": "<Figure size 432x288 with 1 Axes>",
      "image/png": "[encoded data removed]"
     },
     "metadata": {
      "needs_background": "light"
     },
     "output_type": "display_data"
    }
   ],
   "source": [
    "#Анализ столбца №6\n",
    "data = row_dataset[6]\n",
    "\n",
    "# Анализируем распределение\n",
    "matplotlib.pyplot.hist(data, bins = 50)\n",
    "matplotlib.pyplot.show()"
   ]
  },
  {
   "cell_type": "code",
   "execution_count": 95,
   "metadata": {
    "pycharm": {
     "is_executing": false,
     "name": "#%%\n"
    }
   },
   "outputs": [
    {
     "data": {
      "text/plain": "<Figure size 432x288 with 1 Axes>",
      "image/png": "[encoded data removed]"
     },
     "metadata": {
      "needs_background": "light"
     },
     "output_type": "display_data"
    }
   ],
   "source": [
    "data = numpy.clip(data, 1, 20)\n",
    "matplotlib.pyplot.hist(data, bins = 50)\n",
    "matplotlib.pyplot.show()"
   ]
  },
  {
   "cell_type": "code",
   "execution_count": 96,
   "metadata": {
    "pycharm": {
     "is_executing": false,
     "name": "#%%\n"
    }
   },
   "outputs": [
    {
     "data": {
      "text/plain": "<Figure size 432x288 with 1 Axes>",
      "image/png": "[encoded data removed]"
     },
     "metadata": {
      "needs_background": "light"
     },
     "output_type": "display_data"
    },
    {
     "data": {
      "text/plain": "<Figure size 432x288 with 1 Axes>",
      "image/png": "[encoded data removed]"
     },
     "metadata": {
      "needs_background": "light"
     },
     "output_type": "display_data"
    }
   ],
   "source": [
    "matplotlib.pyplot.hist(data**0.5, bins = 50)\n",
    "matplotlib.pyplot.show()\n",
    "\n",
    "matplotlib.pyplot.hist(numpy.log(data), bins = 50)\n",
    "matplotlib.pyplot.show()\n",
    "data = numpy.log(data)"
   ]
  },
  {
   "cell_type": "code",
   "execution_count": 97,
   "metadata": {
    "pycharm": {
     "is_executing": false,
     "name": "#%%\n"
    }
   },
   "outputs": [
    {
     "data": {
      "text/plain": "       MMIN     CHMAX      MMAX      CACH     CHMIN\n0  0.251074  1.000000  0.420445  1.000000  0.925513\n1  0.874463  0.676123  1.000000  0.461880  0.694135\n2  0.874463  0.676123  1.000000  0.461880  0.694135\n3  0.874463  0.676123  1.000000  0.461880  0.694135\n4  0.874463  0.478091  0.717236  0.461880  0.694135\n5  0.874463  0.676123  1.000000  0.653197  0.694135\n6  1.000000  0.676123  1.000000  0.653197  0.925513\n7  1.000000  0.676123  1.000000  0.653197  0.925513\n8  1.000000  0.676123  1.000000  0.653197  0.925513\n9  1.000000  0.956183  1.000000  0.923760  1.000000",
      "text/html": "<div>\n<style scoped>\n    .dataframe tbody tr th:only-of-type {\n        vertical-align: middle;\n    }\n\n    .dataframe tbody tr th {\n        vertical-align: top;\n    }\n\n    .dataframe thead th {\n        text-align: right;\n    }\n</style>\n<table border=\"1\" class=\"dataframe\">\n  <thead>\n    <tr style=\"text-align: right;\">\n      <th></th>\n      <th>MMIN</th>\n      <th>CHMAX</th>\n      <th>MMAX</th>\n      <th>CACH</th>\n      <th>CHMIN</th>\n    </tr>\n  </thead>\n  <tbody>\n    <tr>\n      <th>0</th>\n      <td>0.251074</td>\n      <td>1.000000</td>\n      <td>0.420445</td>\n      <td>1.000000</td>\n      <td>0.925513</td>\n    </tr>\n    <tr>\n      <th>1</th>\n      <td>0.874463</td>\n      <td>0.676123</td>\n      <td>1.000000</td>\n      <td>0.461880</td>\n      <td>0.694135</td>\n    </tr>\n    <tr>\n      <th>2</th>\n      <td>0.874463</td>\n      <td>0.676123</td>\n      <td>1.000000</td>\n      <td>0.461880</td>\n      <td>0.694135</td>\n    </tr>\n    <tr>\n      <th>3</th>\n      <td>0.874463</td>\n      <td>0.676123</td>\n      <td>1.000000</td>\n      <td>0.461880</td>\n      <td>0.694135</td>\n    </tr>\n    <tr>\n      <th>4</th>\n      <td>0.874463</td>\n      <td>0.478091</td>\n      <td>0.717236</td>\n      <td>0.461880</td>\n      <td>0.694135</td>\n    </tr>\n    <tr>\n      <th>5</th>\n      <td>0.874463</td>\n      <td>0.676123</td>\n      <td>1.000000</td>\n      <td>0.653197</td>\n      <td>0.694135</td>\n    </tr>\n    <tr>\n      <th>6</th>\n      <td>1.000000</td>\n      <td>0.676123</td>\n      <td>1.000000</td>\n      <td>0.653197</td>\n      <td>0.925513</td>\n    </tr>\n    <tr>\n      <th>7</th>\n      <td>1.000000</td>\n      <td>0.676123</td>\n      <td>1.000000</td>\n      <td>0.653197</td>\n      <td>0.925513</td>\n    </tr>\n    <tr>\n      <th>8</th>\n      <td>1.000000</td>\n      <td>0.676123</td>\n      <td>1.000000</td>\n      <td>0.653197</td>\n      <td>0.925513</td>\n    </tr>\n    <tr>\n      <th>9</th>\n      <td>1.000000</td>\n      <td>0.956183</td>\n      <td>1.000000</td>\n      <td>0.923760</td>\n      <td>1.000000</td>\n    </tr>\n  </tbody>\n</table>\n</div>"
     },
     "metadata": {},
     "output_type": "execute_result",
     "execution_count": 97
    }
   ],
   "source": [
    "data = numpy.array(data).reshape(-1,1)\n",
    "data = MinMaxScaler().fit_transform(data)\n",
    "data = data.flatten()\n",
    "dataset['CHMIN'] = data\n",
    "dataset.head(10)"
   ]
  },
  {
   "cell_type": "code",
   "execution_count": 98,
   "metadata": {
    "pycharm": {
     "is_executing": false,
     "name": "#%%\n"
    }
   },
   "outputs": [
    {
     "data": {
      "text/plain": "<Figure size 432x288 with 1 Axes>",
      "image/png": "[encoded data removed]"
     },
     "metadata": {
      "needs_background": "light"
     },
     "output_type": "display_data"
    }
   ],
   "source": [
    "#Анализ столбца №8\n",
    "data = row_dataset[8]\n",
    "\n",
    "matplotlib.pyplot.hist(data, bins = 50)\n",
    "matplotlib.pyplot.show()"
   ]
  },
  {
   "cell_type": "code",
   "execution_count": 99,
   "metadata": {
    "pycharm": {
     "is_executing": false,
     "name": "#%%\n"
    }
   },
   "outputs": [
    {
     "data": {
      "text/plain": "<Figure size 432x288 with 1 Axes>",
      "image/png": "[encoded data removed]"
     },
     "metadata": {
      "needs_background": "light"
     },
     "output_type": "display_data"
    }
   ],
   "source": [
    "data = numpy.clip(data, 0, 600)\n",
    "matplotlib.pyplot.hist(data, bins = 50)\n",
    "matplotlib.pyplot.show()"
   ]
  },
  {
   "cell_type": "code",
   "execution_count": 100,
   "metadata": {
    "pycharm": {
     "is_executing": false,
     "name": "#%%\n"
    }
   },
   "outputs": [
    {
     "data": {
      "text/plain": "<Figure size 432x288 with 1 Axes>",
      "image/png": "[encoded data removed]"
     },
     "metadata": {
      "needs_background": "light"
     },
     "output_type": "display_data"
    },
    {
     "data": {
      "text/plain": "<Figure size 432x288 with 1 Axes>",
      "image/png": "[encoded data removed]"
     },
     "metadata": {
      "needs_background": "light"
     },
     "output_type": "display_data"
    }
   ],
   "source": [
    "matplotlib.pyplot.hist(data**0.5, bins = 50)\n",
    "matplotlib.pyplot.show()\n",
    "\n",
    "\n",
    "matplotlib.pyplot.hist(numpy.log(data), bins = 50)\n",
    "matplotlib.pyplot.show()\n",
    "\n",
    "data = numpy.log(data)"
   ]
  },
  {
   "cell_type": "code",
   "execution_count": 101,
   "metadata": {
    "pycharm": {
     "is_executing": false,
     "name": "#%%\n"
    }
   },
   "outputs": [
    {
     "data": {
      "text/plain": "       MMIN     CHMAX      MMAX      CACH     CHMIN       PRP\n0  0.251074  1.000000  0.420445  1.000000  0.925513  1.229905\n1  0.874463  0.676123  1.000000  0.461880  0.694135  1.529143\n2  0.874463  0.676123  1.000000  0.461880  0.694135  1.332788\n3  0.874463  0.676123  1.000000  0.461880  0.694135  1.092443\n4  0.874463  0.478091  0.717236  0.461880  0.694135  0.833975\n5  0.874463  0.676123  1.000000  0.653197  0.694135  1.692548\n6  1.000000  0.676123  1.000000  0.653197  0.925513  1.832489\n7  1.000000  0.676123  1.000000  0.653197  0.925513  2.112740\n8  1.000000  0.676123  1.000000  0.653197  0.925513  2.312497\n9  1.000000  0.956183  1.000000  0.923760  1.000000  2.312497",
      "text/html": "<div>\n<style scoped>\n    .dataframe tbody tr th:only-of-type {\n        vertical-align: middle;\n    }\n\n    .dataframe tbody tr th {\n        vertical-align: top;\n    }\n\n    .dataframe thead th {\n        text-align: right;\n    }\n</style>\n<table border=\"1\" class=\"dataframe\">\n  <thead>\n    <tr style=\"text-align: right;\">\n      <th></th>\n      <th>MMIN</th>\n      <th>CHMAX</th>\n      <th>MMAX</th>\n      <th>CACH</th>\n      <th>CHMIN</th>\n      <th>PRP</th>\n    </tr>\n  </thead>\n  <tbody>\n    <tr>\n      <th>0</th>\n      <td>0.251074</td>\n      <td>1.000000</td>\n      <td>0.420445</td>\n      <td>1.000000</td>\n      <td>0.925513</td>\n      <td>1.229905</td>\n    </tr>\n    <tr>\n      <th>1</th>\n      <td>0.874463</td>\n      <td>0.676123</td>\n      <td>1.000000</td>\n      <td>0.461880</td>\n      <td>0.694135</td>\n      <td>1.529143</td>\n    </tr>\n    <tr>\n      <th>2</th>\n      <td>0.874463</td>\n      <td>0.676123</td>\n      <td>1.000000</td>\n      <td>0.461880</td>\n      <td>0.694135</td>\n      <td>1.332788</td>\n    </tr>\n    <tr>\n      <th>3</th>\n      <td>0.874463</td>\n      <td>0.676123</td>\n      <td>1.000000</td>\n      <td>0.461880</td>\n      <td>0.694135</td>\n      <td>1.092443</td>\n    </tr>\n    <tr>\n      <th>4</th>\n      <td>0.874463</td>\n      <td>0.478091</td>\n      <td>0.717236</td>\n      <td>0.461880</td>\n      <td>0.694135</td>\n      <td>0.833975</td>\n    </tr>\n    <tr>\n      <th>5</th>\n      <td>0.874463</td>\n      <td>0.676123</td>\n      <td>1.000000</td>\n      <td>0.653197</td>\n      <td>0.694135</td>\n      <td>1.692548</td>\n    </tr>\n    <tr>\n      <th>6</th>\n      <td>1.000000</td>\n      <td>0.676123</td>\n      <td>1.000000</td>\n      <td>0.653197</td>\n      <td>0.925513</td>\n      <td>1.832489</td>\n    </tr>\n    <tr>\n      <th>7</th>\n      <td>1.000000</td>\n      <td>0.676123</td>\n      <td>1.000000</td>\n      <td>0.653197</td>\n      <td>0.925513</td>\n      <td>2.112740</td>\n    </tr>\n    <tr>\n      <th>8</th>\n      <td>1.000000</td>\n      <td>0.676123</td>\n      <td>1.000000</td>\n      <td>0.653197</td>\n      <td>0.925513</td>\n      <td>2.312497</td>\n    </tr>\n    <tr>\n      <th>9</th>\n      <td>1.000000</td>\n      <td>0.956183</td>\n      <td>1.000000</td>\n      <td>0.923760</td>\n      <td>1.000000</td>\n      <td>2.312497</td>\n    </tr>\n  </tbody>\n</table>\n</div>"
     },
     "metadata": {},
     "output_type": "execute_result",
     "execution_count": 101
    }
   ],
   "source": [
    "data = numpy.array(data).reshape(-1,1)\n",
    "data = StandardScaler().fit_transform(data)\n",
    "data =  data.flatten()\n",
    "dataset[\"PRP\"] = data\n",
    "dataset.head(10)"
   ]
  },
  {
   "cell_type": "code",
   "execution_count": 102,
   "metadata": {
    "pycharm": {
     "is_executing": false,
     "name": "#%%\n"
    }
   },
   "outputs": [
    {
     "name": "stdout",
     "text": [
      "(0, 'adviser') (1, 'amdahl') (2, 'apollo') (3, 'basf') (4, 'bti') (5, 'burroughs') (6, 'c.r.d') (7, 'cambex') (8, 'cdc') (9, 'dec') (10, 'dg') (11, 'formation') (12, 'four-phase') (13, 'gould') (14, 'harris') (15, 'honeywell') (16, 'hp') (17, 'ibm') (18, 'ipl') (19, 'magnuson') (20, 'microdata') (21, 'nas') (22, 'ncr') (23, 'nixdorf') (24, 'perkin-elmer') (25, 'prime') (26, 'siemens') (27, 'sperry') (28, 'sratus') (29, 'wang')\n"
     ],
     "output_type": "stream"
    },
    {
     "data": {
      "text/plain": "<Figure size 432x288 with 1 Axes>",
      "image/png": "[encoded data removed]"
     },
     "metadata": {
      "needs_background": "light"
     },
     "output_type": "display_data"
    }
   ],
   "source": [
    "#Столбец №0\n",
    "data = row_dataset[0]\n",
    "#data = pandas.factorize(data)# слова стали цифрами\n",
    "data = pandas.get_dummies(data)\n",
    "print(*enumerate(data))\n",
    "data = numpy.array([data[i[1]] * (i[0]+1) for i in  enumerate(data)]).flatten()\n",
    "data = data[data != 0]\n",
    "matplotlib.pyplot.hist(data, bins = 50)\n",
    "matplotlib.pyplot.show()"
   ]
  },
  {
   "cell_type": "code",
   "execution_count": 103,
   "metadata": {
    "pycharm": {
     "is_executing": false,
     "name": "#%%\n"
    }
   },
   "outputs": [
    {
     "data": {
      "text/plain": "<Figure size 432x288 with 1 Axes>",
      "image/png": "[encoded data removed]"
     },
     "metadata": {
      "needs_background": "light"
     },
     "output_type": "display_data"
    }
   ],
   "source": [
    "matplotlib.pyplot.hist(data**0.5, bins = 50)\n",
    "matplotlib.pyplot.show()\n",
    "\n",
    "data = data**0.5"
   ]
  },
  {
   "cell_type": "code",
   "execution_count": 104,
   "metadata": {
    "pycharm": {
     "is_executing": false,
     "name": "#%%\n"
    }
   },
   "outputs": [
    {
     "data": {
      "text/plain": "       MMIN     CHMAX      MMAX      CACH     CHMIN       PRP  Vendor_name\n0  0.251074  1.000000  0.420445  1.000000  0.925513  1.229905     0.000000\n1  0.874463  0.676123  1.000000  0.461880  0.694135  1.529143     0.092516\n2  0.874463  0.676123  1.000000  0.461880  0.694135  1.332788     0.092516\n3  0.874463  0.676123  1.000000  0.461880  0.694135  1.092443     0.092516\n4  0.874463  0.478091  0.717236  0.461880  0.694135  0.833975     0.092516\n5  0.874463  0.676123  1.000000  0.653197  0.694135  1.692548     0.092516\n6  1.000000  0.676123  1.000000  0.653197  0.925513  1.832489     0.092516\n7  1.000000  0.676123  1.000000  0.653197  0.925513  2.112740     0.092516\n8  1.000000  0.676123  1.000000  0.653197  0.925513  2.312497     0.092516\n9  1.000000  0.956183  1.000000  0.923760  1.000000  2.312497     0.092516",
      "text/html": "<div>\n<style scoped>\n    .dataframe tbody tr th:only-of-type {\n        vertical-align: middle;\n    }\n\n    .dataframe tbody tr th {\n        vertical-align: top;\n    }\n\n    .dataframe thead th {\n        text-align: right;\n    }\n</style>\n<table border=\"1\" class=\"dataframe\">\n  <thead>\n    <tr style=\"text-align: right;\">\n      <th></th>\n      <th>MMIN</th>\n      <th>CHMAX</th>\n      <th>MMAX</th>\n      <th>CACH</th>\n      <th>CHMIN</th>\n      <th>PRP</th>\n      <th>Vendor_name</th>\n    </tr>\n  </thead>\n  <tbody>\n    <tr>\n      <th>0</th>\n      <td>0.251074</td>\n      <td>1.000000</td>\n      <td>0.420445</td>\n      <td>1.000000</td>\n      <td>0.925513</td>\n      <td>1.229905</td>\n      <td>0.000000</td>\n    </tr>\n    <tr>\n      <th>1</th>\n      <td>0.874463</td>\n      <td>0.676123</td>\n      <td>1.000000</td>\n      <td>0.461880</td>\n      <td>0.694135</td>\n      <td>1.529143</td>\n      <td>0.092516</td>\n    </tr>\n    <tr>\n      <th>2</th>\n      <td>0.874463</td>\n      <td>0.676123</td>\n      <td>1.000000</td>\n      <td>0.461880</td>\n      <td>0.694135</td>\n      <td>1.332788</td>\n      <td>0.092516</td>\n    </tr>\n    <tr>\n      <th>3</th>\n      <td>0.874463</td>\n      <td>0.676123</td>\n      <td>1.000000</td>\n      <td>0.461880</td>\n      <td>0.694135</td>\n      <td>1.092443</td>\n      <td>0.092516</td>\n    </tr>\n    <tr>\n      <th>4</th>\n      <td>0.874463</td>\n      <td>0.478091</td>\n      <td>0.717236</td>\n      <td>0.461880</td>\n      <td>0.694135</td>\n      <td>0.833975</td>\n      <td>0.092516</td>\n    </tr>\n    <tr>\n      <th>5</th>\n      <td>0.874463</td>\n      <td>0.676123</td>\n      <td>1.000000</td>\n      <td>0.653197</td>\n      <td>0.694135</td>\n      <td>1.692548</td>\n      <td>0.092516</td>\n    </tr>\n    <tr>\n      <th>6</th>\n      <td>1.000000</td>\n      <td>0.676123</td>\n      <td>1.000000</td>\n      <td>0.653197</td>\n      <td>0.925513</td>\n      <td>1.832489</td>\n      <td>0.092516</td>\n    </tr>\n    <tr>\n      <th>7</th>\n      <td>1.000000</td>\n      <td>0.676123</td>\n      <td>1.000000</td>\n      <td>0.653197</td>\n      <td>0.925513</td>\n      <td>2.112740</td>\n      <td>0.092516</td>\n    </tr>\n    <tr>\n      <th>8</th>\n      <td>1.000000</td>\n      <td>0.676123</td>\n      <td>1.000000</td>\n      <td>0.653197</td>\n      <td>0.925513</td>\n      <td>2.312497</td>\n      <td>0.092516</td>\n    </tr>\n    <tr>\n      <th>9</th>\n      <td>1.000000</td>\n      <td>0.956183</td>\n      <td>1.000000</td>\n      <td>0.923760</td>\n      <td>1.000000</td>\n      <td>2.312497</td>\n      <td>0.092516</td>\n    </tr>\n  </tbody>\n</table>\n</div>"
     },
     "metadata": {},
     "output_type": "execute_result",
     "execution_count": 104
    }
   ],
   "source": [
    "#Столбец №2\n",
    "data = numpy.array(data).reshape(-1,1)\n",
    "data = MinMaxScaler().fit_transform(data)\n",
    "data = data.flatten()\n",
    "dataset['Vendor_name'] = data\n",
    "dataset.head(10)"
   ]
  },
  {
   "cell_type": "code",
   "execution_count": 105,
   "metadata": {
    "pycharm": {
     "is_executing": false,
     "name": "#%%\n"
    }
   },
   "outputs": [
    {
     "data": {
      "text/plain": "<Figure size 432x288 with 1 Axes>",
      "image/png": "[encoded data removed]"
     },
     "metadata": {
      "needs_background": "light"
     },
     "output_type": "display_data"
    }
   ],
   "source": [
    "data = row_dataset[2]\n",
    "\n",
    "matplotlib.pyplot.hist(data, bins = 50)\n",
    "matplotlib.pyplot.show()"
   ]
  },
  {
   "cell_type": "code",
   "execution_count": 106,
   "metadata": {
    "pycharm": {
     "is_executing": false
    }
   },
   "outputs": [
    {
     "data": {
      "text/plain": "<Figure size 432x288 with 1 Axes>",
      "image/png": "[encoded data removed]"
     },
     "metadata": {
      "needs_background": "light"
     },
     "output_type": "display_data"
    }
   ],
   "source": [
    "data = numpy.clip(data, 0, 1000)\n",
    "matplotlib.pyplot.hist(data, bins = 50)\n",
    "matplotlib.pyplot.show()"
   ]
  },
  {
   "cell_type": "code",
   "execution_count": 107,
   "metadata": {
    "pycharm": {
     "is_executing": false,
     "name": "#%%\n"
    }
   },
   "outputs": [
    {
     "data": {
      "text/plain": "<Figure size 432x288 with 1 Axes>",
      "image/png": "[encoded data removed]"
     },
     "metadata": {
      "needs_background": "light"
     },
     "output_type": "display_data"
    }
   ],
   "source": [
    "matplotlib.pyplot.hist(data**0.5, bins = 50)\n",
    "matplotlib.pyplot.show()\n",
    "\n",
    "data = data**0.5"
   ]
  },
  {
   "cell_type": "code",
   "execution_count": 108,
   "metadata": {
    "pycharm": {
     "is_executing": false,
     "name": "#%%\n"
    }
   },
   "outputs": [
    {
     "data": {
      "text/plain": "       MMIN     CHMAX      MMAX      CACH     CHMIN       PRP  Vendor_name  \\\n0  0.251074  1.000000  0.420445  1.000000  0.925513  1.229905     0.000000   \n1  0.874463  0.676123  1.000000  0.461880  0.694135  1.529143     0.092516   \n2  0.874463  0.676123  1.000000  0.461880  0.694135  1.332788     0.092516   \n3  0.874463  0.676123  1.000000  0.461880  0.694135  1.092443     0.092516   \n4  0.874463  0.478091  0.717236  0.461880  0.694135  0.833975     0.092516   \n5  0.874463  0.676123  1.000000  0.653197  0.694135  1.692548     0.092516   \n6  1.000000  0.676123  1.000000  0.653197  0.925513  1.832489     0.092516   \n7  1.000000  0.676123  1.000000  0.653197  0.925513  2.112740     0.092516   \n8  1.000000  0.676123  1.000000  0.653197  0.925513  2.312497     0.092516   \n9  1.000000  0.956183  1.000000  0.923760  1.000000  2.312497     0.092516   \n\n       MYCT  \n0  0.256630  \n1  0.045894  \n2  0.045894  \n3  0.045894  \n4  0.045894  \n5  0.035488  \n6  0.024463  \n7  0.024463  \n8  0.024463  \n9  0.024463  ",
      "text/html": "<div>\n<style scoped>\n    .dataframe tbody tr th:only-of-type {\n        vertical-align: middle;\n    }\n\n    .dataframe tbody tr th {\n        vertical-align: top;\n    }\n\n    .dataframe thead th {\n        text-align: right;\n    }\n</style>\n<table border=\"1\" class=\"dataframe\">\n  <thead>\n    <tr style=\"text-align: right;\">\n      <th></th>\n      <th>MMIN</th>\n      <th>CHMAX</th>\n      <th>MMAX</th>\n      <th>CACH</th>\n      <th>CHMIN</th>\n      <th>PRP</th>\n      <th>Vendor_name</th>\n      <th>MYCT</th>\n    </tr>\n  </thead>\n  <tbody>\n    <tr>\n      <th>0</th>\n      <td>0.251074</td>\n      <td>1.000000</td>\n      <td>0.420445</td>\n      <td>1.000000</td>\n      <td>0.925513</td>\n      <td>1.229905</td>\n      <td>0.000000</td>\n      <td>0.256630</td>\n    </tr>\n    <tr>\n      <th>1</th>\n      <td>0.874463</td>\n      <td>0.676123</td>\n      <td>1.000000</td>\n      <td>0.461880</td>\n      <td>0.694135</td>\n      <td>1.529143</td>\n      <td>0.092516</td>\n      <td>0.045894</td>\n    </tr>\n    <tr>\n      <th>2</th>\n      <td>0.874463</td>\n      <td>0.676123</td>\n      <td>1.000000</td>\n      <td>0.461880</td>\n      <td>0.694135</td>\n      <td>1.332788</td>\n      <td>0.092516</td>\n      <td>0.045894</td>\n    </tr>\n    <tr>\n      <th>3</th>\n      <td>0.874463</td>\n      <td>0.676123</td>\n      <td>1.000000</td>\n      <td>0.461880</td>\n      <td>0.694135</td>\n      <td>1.092443</td>\n      <td>0.092516</td>\n      <td>0.045894</td>\n    </tr>\n    <tr>\n      <th>4</th>\n      <td>0.874463</td>\n      <td>0.478091</td>\n      <td>0.717236</td>\n      <td>0.461880</td>\n      <td>0.694135</td>\n      <td>0.833975</td>\n      <td>0.092516</td>\n      <td>0.045894</td>\n    </tr>\n    <tr>\n      <th>5</th>\n      <td>0.874463</td>\n      <td>0.676123</td>\n      <td>1.000000</td>\n      <td>0.653197</td>\n      <td>0.694135</td>\n      <td>1.692548</td>\n      <td>0.092516</td>\n      <td>0.035488</td>\n    </tr>\n    <tr>\n      <th>6</th>\n      <td>1.000000</td>\n      <td>0.676123</td>\n      <td>1.000000</td>\n      <td>0.653197</td>\n      <td>0.925513</td>\n      <td>1.832489</td>\n      <td>0.092516</td>\n      <td>0.024463</td>\n    </tr>\n    <tr>\n      <th>7</th>\n      <td>1.000000</td>\n      <td>0.676123</td>\n      <td>1.000000</td>\n      <td>0.653197</td>\n      <td>0.925513</td>\n      <td>2.112740</td>\n      <td>0.092516</td>\n      <td>0.024463</td>\n    </tr>\n    <tr>\n      <th>8</th>\n      <td>1.000000</td>\n      <td>0.676123</td>\n      <td>1.000000</td>\n      <td>0.653197</td>\n      <td>0.925513</td>\n      <td>2.312497</td>\n      <td>0.092516</td>\n      <td>0.024463</td>\n    </tr>\n    <tr>\n      <th>9</th>\n      <td>1.000000</td>\n      <td>0.956183</td>\n      <td>1.000000</td>\n      <td>0.923760</td>\n      <td>1.000000</td>\n      <td>2.312497</td>\n      <td>0.092516</td>\n      <td>0.024463</td>\n    </tr>\n  </tbody>\n</table>\n</div>"
     },
     "metadata": {},
     "output_type": "execute_result",
     "execution_count": 108
    }
   ],
   "source": [
    "data = numpy.array(data).reshape(-1,1)\n",
    "data = MinMaxScaler().fit_transform(data)\n",
    "data = data.flatten()\n",
    "dataset['MYCT'] = data\n",
    "dataset.head(10)"
   ]
  },
  {
   "cell_type": "code",
   "execution_count": 109,
   "metadata": {
    "pycharm": {
     "is_executing": false,
     "name": "#%%\n"
    }
   },
   "outputs": [
    {
     "data": {
      "text/plain": "<Figure size 432x288 with 9 Axes>",
      "image/png": "[encoded data removed]"
     },
     "metadata": {
      "needs_background": "light"
     },
     "output_type": "display_data"
    }
   ],
   "source": [
    "dataset.hist()\n",
    "matplotlib.pyplot.show()"
   ]
  },
  {
   "cell_type": "code",
   "execution_count": 114,
   "metadata": {
    "pycharm": {
     "is_executing": false
    }
   },
   "outputs": [
    {
     "data": {
      "text/plain": "   Vendor_name      MYCT      MMIN      MMAX     CACH     CHMIN     CHMAX  \\\n0     0.000000  0.256630  0.251074  0.420445  1.00000  0.925513  1.000000   \n1     0.092516  0.045894  0.874463  1.000000  0.46188  0.694135  0.676123   \n2     0.092516  0.045894  0.874463  1.000000  0.46188  0.694135  0.676123   \n3     0.092516  0.045894  0.874463  1.000000  0.46188  0.694135  0.676123   \n4     0.092516  0.045894  0.874463  0.717236  0.46188  0.694135  0.478091   \n\n        PRP  \n0  1.229905  \n1  1.529143  \n2  1.332788  \n3  1.092443  \n4  0.833975  ",
      "text/html": "<div>\n<style scoped>\n    .dataframe tbody tr th:only-of-type {\n        vertical-align: middle;\n    }\n\n    .dataframe tbody tr th {\n        vertical-align: top;\n    }\n\n    .dataframe thead th {\n        text-align: right;\n    }\n</style>\n<table border=\"1\" class=\"dataframe\">\n  <thead>\n    <tr style=\"text-align: right;\">\n      <th></th>\n      <th>Vendor_name</th>\n      <th>MYCT</th>\n      <th>MMIN</th>\n      <th>MMAX</th>\n      <th>CACH</th>\n      <th>CHMIN</th>\n      <th>CHMAX</th>\n      <th>PRP</th>\n    </tr>\n  </thead>\n  <tbody>\n    <tr>\n      <th>0</th>\n      <td>0.000000</td>\n      <td>0.256630</td>\n      <td>0.251074</td>\n      <td>0.420445</td>\n      <td>1.00000</td>\n      <td>0.925513</td>\n      <td>1.000000</td>\n      <td>1.229905</td>\n    </tr>\n    <tr>\n      <th>1</th>\n      <td>0.092516</td>\n      <td>0.045894</td>\n      <td>0.874463</td>\n      <td>1.000000</td>\n      <td>0.46188</td>\n      <td>0.694135</td>\n      <td>0.676123</td>\n      <td>1.529143</td>\n    </tr>\n    <tr>\n      <th>2</th>\n      <td>0.092516</td>\n      <td>0.045894</td>\n      <td>0.874463</td>\n      <td>1.000000</td>\n      <td>0.46188</td>\n      <td>0.694135</td>\n      <td>0.676123</td>\n      <td>1.332788</td>\n    </tr>\n    <tr>\n      <th>3</th>\n      <td>0.092516</td>\n      <td>0.045894</td>\n      <td>0.874463</td>\n      <td>1.000000</td>\n      <td>0.46188</td>\n      <td>0.694135</td>\n      <td>0.676123</td>\n      <td>1.092443</td>\n    </tr>\n    <tr>\n      <th>4</th>\n      <td>0.092516</td>\n      <td>0.045894</td>\n      <td>0.874463</td>\n      <td>0.717236</td>\n      <td>0.46188</td>\n      <td>0.694135</td>\n      <td>0.478091</td>\n      <td>0.833975</td>\n    </tr>\n  </tbody>\n</table>\n</div>"
     },
     "metadata": {},
     "output_type": "execute_result",
     "execution_count": 114
    }
   ],
   "source": [
    "# Собрали таблицу\n",
    "final_dataset = pandas.DataFrame(dataset['Vendor_name'])\n",
    "final_dataset[[\"MYCT\", \"MMIN\"]] = dataset[[\"MYCT\", \"MMIN\"]]\n",
    "name_list = [i for i in dataset.columns]\n",
    "final_dataset[name_list[2:5]] = dataset[name_list[2:5]]\n",
    "final_dataset[[name_list[1],name_list[5]]] = dataset[[name_list[1], name_list[5]]]\n",
    "final_dataset.head()"
   ]
  },
  {
   "cell_type": "code",
   "execution_count": 117,
   "metadata": {
    "pycharm": {
     "is_executing": false
    }
   },
   "outputs": [],
   "source": [
    "#скачали таблицу\n",
    "final_dataset.to_csv('prepared_data.csv', index=False)"
   ]
  }
 ],
 "metadata": {
  "kernelspec": {
   "display_name": "Python 3",
   "language": "python",
   "name": "python3"
  },
  "language_info": {
   "codemirror_mode": {
    "name": "ipython",
    "version": 3
   },
   "file_extension": ".py",
   "mimetype": "text/x-python",
   "name": "python",
   "nbconvert_exporter": "python",
   "pygments_lexer": "ipython3",
   "version": "3.7.6"
  },
  "pycharm": {
   "stem_cell": {
    "cell_type": "raw",
    "source": [],
    "metadata": {
     "collapsed": false
    }
   }
  }
 },
 "nbformat": 4,
 "nbformat_minor": 2
}